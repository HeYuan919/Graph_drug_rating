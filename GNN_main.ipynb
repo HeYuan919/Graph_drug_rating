{
  "cells": [
    {
      "cell_type": "markdown",
      "metadata": {
        "id": "wdM3l4X1DS_e"
      },
      "source": [
        "# Load Amazon_fashion_5core dataset in PyG"
      ]
    },
    {
      "cell_type": "code",
      "source": [
        "# !pip install torch-scatter torch-sparse torch-cluster torch-spline-conv torch-geometric -f https://data.pyg.org/whl/torch-2.1.0+cu118.html\n",
        "# !pip uninstall torch-scatter torch-sparse torch-cluster torch-spline-conv torch-geometric -y\n",
        "!pip install torch-scatter torch-sparse torch-cluster torch-spline-conv torch-geometric pyglib -f https://data.pyg.org/whl/torch-2.1.0+cpu.html\n",
        "!pip install ogb  # for datasets\n",
        "!pip install torchtext"
      ],
      "metadata": {
        "colab": {
          "base_uri": "https://localhost:8080/"
        },
        "id": "lqIMGlHUDoiG",
        "outputId": "6c9a3bda-e342-4f51-eadb-cc32719d55a9"
      },
      "execution_count": 172,
      "outputs": [
        {
          "output_type": "stream",
          "name": "stdout",
          "text": [
            "Looking in links: https://data.pyg.org/whl/torch-2.1.0+cpu.html\n",
            "Requirement already satisfied: torch-scatter in /usr/local/lib/python3.10/dist-packages (2.1.2+pt21cpu)\n",
            "Requirement already satisfied: torch-sparse in /usr/local/lib/python3.10/dist-packages (0.6.18+pt21cpu)\n",
            "Requirement already satisfied: torch-cluster in /usr/local/lib/python3.10/dist-packages (1.6.3+pt21cpu)\n",
            "Requirement already satisfied: torch-spline-conv in /usr/local/lib/python3.10/dist-packages (1.2.2+pt21cpu)\n",
            "Requirement already satisfied: torch-geometric in /usr/local/lib/python3.10/dist-packages (2.4.0)\n",
            "Requirement already satisfied: pyglib in /usr/local/lib/python3.10/dist-packages (0.1)\n",
            "Requirement already satisfied: scipy in /usr/local/lib/python3.10/dist-packages (from torch-sparse) (1.11.4)\n",
            "Requirement already satisfied: tqdm in /usr/local/lib/python3.10/dist-packages (from torch-geometric) (4.66.1)\n",
            "Requirement already satisfied: numpy in /usr/local/lib/python3.10/dist-packages (from torch-geometric) (1.23.5)\n",
            "Requirement already satisfied: jinja2 in /usr/local/lib/python3.10/dist-packages (from torch-geometric) (3.1.2)\n",
            "Requirement already satisfied: requests in /usr/local/lib/python3.10/dist-packages (from torch-geometric) (2.31.0)\n",
            "Requirement already satisfied: pyparsing in /usr/local/lib/python3.10/dist-packages (from torch-geometric) (3.1.1)\n",
            "Requirement already satisfied: scikit-learn in /usr/local/lib/python3.10/dist-packages (from torch-geometric) (1.2.2)\n",
            "Requirement already satisfied: psutil>=5.8.0 in /usr/local/lib/python3.10/dist-packages (from torch-geometric) (5.9.5)\n",
            "Requirement already satisfied: python-gflags in /usr/local/lib/python3.10/dist-packages (from pyglib) (3.1.2)\n",
            "Requirement already satisfied: glog in /usr/local/lib/python3.10/dist-packages (from pyglib) (0.3.1)\n",
            "Requirement already satisfied: six in /usr/local/lib/python3.10/dist-packages (from glog->pyglib) (1.16.0)\n",
            "Requirement already satisfied: MarkupSafe>=2.0 in /usr/local/lib/python3.10/dist-packages (from jinja2->torch-geometric) (2.1.3)\n",
            "Requirement already satisfied: charset-normalizer<4,>=2 in /usr/local/lib/python3.10/dist-packages (from requests->torch-geometric) (3.3.2)\n",
            "Requirement already satisfied: idna<4,>=2.5 in /usr/local/lib/python3.10/dist-packages (from requests->torch-geometric) (3.6)\n",
            "Requirement already satisfied: urllib3<3,>=1.21.1 in /usr/local/lib/python3.10/dist-packages (from requests->torch-geometric) (2.0.7)\n",
            "Requirement already satisfied: certifi>=2017.4.17 in /usr/local/lib/python3.10/dist-packages (from requests->torch-geometric) (2023.11.17)\n",
            "Requirement already satisfied: joblib>=1.1.1 in /usr/local/lib/python3.10/dist-packages (from scikit-learn->torch-geometric) (1.3.2)\n",
            "Requirement already satisfied: threadpoolctl>=2.0.0 in /usr/local/lib/python3.10/dist-packages (from scikit-learn->torch-geometric) (3.2.0)\n",
            "Requirement already satisfied: ogb in /usr/local/lib/python3.10/dist-packages (1.3.6)\n",
            "Requirement already satisfied: torch>=1.6.0 in /usr/local/lib/python3.10/dist-packages (from ogb) (2.1.0+cu121)\n",
            "Requirement already satisfied: numpy>=1.16.0 in /usr/local/lib/python3.10/dist-packages (from ogb) (1.23.5)\n",
            "Requirement already satisfied: tqdm>=4.29.0 in /usr/local/lib/python3.10/dist-packages (from ogb) (4.66.1)\n",
            "Requirement already satisfied: scikit-learn>=0.20.0 in /usr/local/lib/python3.10/dist-packages (from ogb) (1.2.2)\n",
            "Requirement already satisfied: pandas>=0.24.0 in /usr/local/lib/python3.10/dist-packages (from ogb) (1.5.3)\n",
            "Requirement already satisfied: six>=1.12.0 in /usr/local/lib/python3.10/dist-packages (from ogb) (1.16.0)\n",
            "Requirement already satisfied: urllib3>=1.24.0 in /usr/local/lib/python3.10/dist-packages (from ogb) (2.0.7)\n",
            "Requirement already satisfied: outdated>=0.2.0 in /usr/local/lib/python3.10/dist-packages (from ogb) (0.2.2)\n",
            "Requirement already satisfied: setuptools>=44 in /usr/local/lib/python3.10/dist-packages (from outdated>=0.2.0->ogb) (67.7.2)\n",
            "Requirement already satisfied: littleutils in /usr/local/lib/python3.10/dist-packages (from outdated>=0.2.0->ogb) (0.2.2)\n",
            "Requirement already satisfied: requests in /usr/local/lib/python3.10/dist-packages (from outdated>=0.2.0->ogb) (2.31.0)\n",
            "Requirement already satisfied: python-dateutil>=2.8.1 in /usr/local/lib/python3.10/dist-packages (from pandas>=0.24.0->ogb) (2.8.2)\n",
            "Requirement already satisfied: pytz>=2020.1 in /usr/local/lib/python3.10/dist-packages (from pandas>=0.24.0->ogb) (2023.3.post1)\n",
            "Requirement already satisfied: scipy>=1.3.2 in /usr/local/lib/python3.10/dist-packages (from scikit-learn>=0.20.0->ogb) (1.11.4)\n",
            "Requirement already satisfied: joblib>=1.1.1 in /usr/local/lib/python3.10/dist-packages (from scikit-learn>=0.20.0->ogb) (1.3.2)\n",
            "Requirement already satisfied: threadpoolctl>=2.0.0 in /usr/local/lib/python3.10/dist-packages (from scikit-learn>=0.20.0->ogb) (3.2.0)\n",
            "Requirement already satisfied: filelock in /usr/local/lib/python3.10/dist-packages (from torch>=1.6.0->ogb) (3.13.1)\n",
            "Requirement already satisfied: typing-extensions in /usr/local/lib/python3.10/dist-packages (from torch>=1.6.0->ogb) (4.5.0)\n",
            "Requirement already satisfied: sympy in /usr/local/lib/python3.10/dist-packages (from torch>=1.6.0->ogb) (1.12)\n",
            "Requirement already satisfied: networkx in /usr/local/lib/python3.10/dist-packages (from torch>=1.6.0->ogb) (3.2.1)\n",
            "Requirement already satisfied: jinja2 in /usr/local/lib/python3.10/dist-packages (from torch>=1.6.0->ogb) (3.1.2)\n",
            "Requirement already satisfied: fsspec in /usr/local/lib/python3.10/dist-packages (from torch>=1.6.0->ogb) (2023.6.0)\n",
            "Requirement already satisfied: triton==2.1.0 in /usr/local/lib/python3.10/dist-packages (from torch>=1.6.0->ogb) (2.1.0)\n",
            "Requirement already satisfied: MarkupSafe>=2.0 in /usr/local/lib/python3.10/dist-packages (from jinja2->torch>=1.6.0->ogb) (2.1.3)\n",
            "Requirement already satisfied: charset-normalizer<4,>=2 in /usr/local/lib/python3.10/dist-packages (from requests->outdated>=0.2.0->ogb) (3.3.2)\n",
            "Requirement already satisfied: idna<4,>=2.5 in /usr/local/lib/python3.10/dist-packages (from requests->outdated>=0.2.0->ogb) (3.6)\n",
            "Requirement already satisfied: certifi>=2017.4.17 in /usr/local/lib/python3.10/dist-packages (from requests->outdated>=0.2.0->ogb) (2023.11.17)\n",
            "Requirement already satisfied: mpmath>=0.19 in /usr/local/lib/python3.10/dist-packages (from sympy->torch>=1.6.0->ogb) (1.3.0)\n",
            "Requirement already satisfied: torchtext in /usr/local/lib/python3.10/dist-packages (0.16.0)\n",
            "Requirement already satisfied: tqdm in /usr/local/lib/python3.10/dist-packages (from torchtext) (4.66.1)\n",
            "Requirement already satisfied: requests in /usr/local/lib/python3.10/dist-packages (from torchtext) (2.31.0)\n",
            "Requirement already satisfied: torch==2.1.0 in /usr/local/lib/python3.10/dist-packages (from torchtext) (2.1.0+cu121)\n",
            "Requirement already satisfied: numpy in /usr/local/lib/python3.10/dist-packages (from torchtext) (1.23.5)\n",
            "Requirement already satisfied: torchdata==0.7.0 in /usr/local/lib/python3.10/dist-packages (from torchtext) (0.7.0)\n",
            "Requirement already satisfied: filelock in /usr/local/lib/python3.10/dist-packages (from torch==2.1.0->torchtext) (3.13.1)\n",
            "Requirement already satisfied: typing-extensions in /usr/local/lib/python3.10/dist-packages (from torch==2.1.0->torchtext) (4.5.0)\n",
            "Requirement already satisfied: sympy in /usr/local/lib/python3.10/dist-packages (from torch==2.1.0->torchtext) (1.12)\n",
            "Requirement already satisfied: networkx in /usr/local/lib/python3.10/dist-packages (from torch==2.1.0->torchtext) (3.2.1)\n",
            "Requirement already satisfied: jinja2 in /usr/local/lib/python3.10/dist-packages (from torch==2.1.0->torchtext) (3.1.2)\n",
            "Requirement already satisfied: fsspec in /usr/local/lib/python3.10/dist-packages (from torch==2.1.0->torchtext) (2023.6.0)\n",
            "Requirement already satisfied: triton==2.1.0 in /usr/local/lib/python3.10/dist-packages (from torch==2.1.0->torchtext) (2.1.0)\n",
            "Requirement already satisfied: urllib3>=1.25 in /usr/local/lib/python3.10/dist-packages (from torchdata==0.7.0->torchtext) (2.0.7)\n",
            "Requirement already satisfied: charset-normalizer<4,>=2 in /usr/local/lib/python3.10/dist-packages (from requests->torchtext) (3.3.2)\n",
            "Requirement already satisfied: idna<4,>=2.5 in /usr/local/lib/python3.10/dist-packages (from requests->torchtext) (3.6)\n",
            "Requirement already satisfied: certifi>=2017.4.17 in /usr/local/lib/python3.10/dist-packages (from requests->torchtext) (2023.11.17)\n",
            "Requirement already satisfied: MarkupSafe>=2.0 in /usr/local/lib/python3.10/dist-packages (from jinja2->torch==2.1.0->torchtext) (2.1.3)\n",
            "Requirement already satisfied: mpmath>=0.19 in /usr/local/lib/python3.10/dist-packages (from sympy->torch==2.1.0->torchtext) (1.3.0)\n"
          ]
        }
      ]
    },
    {
      "cell_type": "code",
      "source": [
        "!pip install sentence_transformers"
      ],
      "metadata": {
        "colab": {
          "base_uri": "https://localhost:8080/"
        },
        "id": "WV-CBHXyD2y6",
        "outputId": "66c6a07f-bb7a-4b4c-e898-8a93a3c80a64"
      },
      "execution_count": 173,
      "outputs": [
        {
          "output_type": "stream",
          "name": "stdout",
          "text": [
            "Requirement already satisfied: sentence_transformers in /usr/local/lib/python3.10/dist-packages (2.2.2)\n",
            "Requirement already satisfied: transformers<5.0.0,>=4.6.0 in /usr/local/lib/python3.10/dist-packages (from sentence_transformers) (4.35.2)\n",
            "Requirement already satisfied: tqdm in /usr/local/lib/python3.10/dist-packages (from sentence_transformers) (4.66.1)\n",
            "Requirement already satisfied: torch>=1.6.0 in /usr/local/lib/python3.10/dist-packages (from sentence_transformers) (2.1.0+cu121)\n",
            "Requirement already satisfied: torchvision in /usr/local/lib/python3.10/dist-packages (from sentence_transformers) (0.16.0+cu121)\n",
            "Requirement already satisfied: numpy in /usr/local/lib/python3.10/dist-packages (from sentence_transformers) (1.23.5)\n",
            "Requirement already satisfied: scikit-learn in /usr/local/lib/python3.10/dist-packages (from sentence_transformers) (1.2.2)\n",
            "Requirement already satisfied: scipy in /usr/local/lib/python3.10/dist-packages (from sentence_transformers) (1.11.4)\n",
            "Requirement already satisfied: nltk in /usr/local/lib/python3.10/dist-packages (from sentence_transformers) (3.8.1)\n",
            "Requirement already satisfied: sentencepiece in /usr/local/lib/python3.10/dist-packages (from sentence_transformers) (0.1.99)\n",
            "Requirement already satisfied: huggingface-hub>=0.4.0 in /usr/local/lib/python3.10/dist-packages (from sentence_transformers) (0.19.4)\n",
            "Requirement already satisfied: filelock in /usr/local/lib/python3.10/dist-packages (from huggingface-hub>=0.4.0->sentence_transformers) (3.13.1)\n",
            "Requirement already satisfied: fsspec>=2023.5.0 in /usr/local/lib/python3.10/dist-packages (from huggingface-hub>=0.4.0->sentence_transformers) (2023.6.0)\n",
            "Requirement already satisfied: requests in /usr/local/lib/python3.10/dist-packages (from huggingface-hub>=0.4.0->sentence_transformers) (2.31.0)\n",
            "Requirement already satisfied: pyyaml>=5.1 in /usr/local/lib/python3.10/dist-packages (from huggingface-hub>=0.4.0->sentence_transformers) (6.0.1)\n",
            "Requirement already satisfied: typing-extensions>=3.7.4.3 in /usr/local/lib/python3.10/dist-packages (from huggingface-hub>=0.4.0->sentence_transformers) (4.5.0)\n",
            "Requirement already satisfied: packaging>=20.9 in /usr/local/lib/python3.10/dist-packages (from huggingface-hub>=0.4.0->sentence_transformers) (23.2)\n",
            "Requirement already satisfied: sympy in /usr/local/lib/python3.10/dist-packages (from torch>=1.6.0->sentence_transformers) (1.12)\n",
            "Requirement already satisfied: networkx in /usr/local/lib/python3.10/dist-packages (from torch>=1.6.0->sentence_transformers) (3.2.1)\n",
            "Requirement already satisfied: jinja2 in /usr/local/lib/python3.10/dist-packages (from torch>=1.6.0->sentence_transformers) (3.1.2)\n",
            "Requirement already satisfied: triton==2.1.0 in /usr/local/lib/python3.10/dist-packages (from torch>=1.6.0->sentence_transformers) (2.1.0)\n",
            "Requirement already satisfied: regex!=2019.12.17 in /usr/local/lib/python3.10/dist-packages (from transformers<5.0.0,>=4.6.0->sentence_transformers) (2023.6.3)\n",
            "Requirement already satisfied: tokenizers<0.19,>=0.14 in /usr/local/lib/python3.10/dist-packages (from transformers<5.0.0,>=4.6.0->sentence_transformers) (0.15.0)\n",
            "Requirement already satisfied: safetensors>=0.3.1 in /usr/local/lib/python3.10/dist-packages (from transformers<5.0.0,>=4.6.0->sentence_transformers) (0.4.1)\n",
            "Requirement already satisfied: click in /usr/local/lib/python3.10/dist-packages (from nltk->sentence_transformers) (8.1.7)\n",
            "Requirement already satisfied: joblib in /usr/local/lib/python3.10/dist-packages (from nltk->sentence_transformers) (1.3.2)\n",
            "Requirement already satisfied: threadpoolctl>=2.0.0 in /usr/local/lib/python3.10/dist-packages (from scikit-learn->sentence_transformers) (3.2.0)\n",
            "Requirement already satisfied: pillow!=8.3.*,>=5.3.0 in /usr/local/lib/python3.10/dist-packages (from torchvision->sentence_transformers) (9.4.0)\n",
            "Requirement already satisfied: MarkupSafe>=2.0 in /usr/local/lib/python3.10/dist-packages (from jinja2->torch>=1.6.0->sentence_transformers) (2.1.3)\n",
            "Requirement already satisfied: charset-normalizer<4,>=2 in /usr/local/lib/python3.10/dist-packages (from requests->huggingface-hub>=0.4.0->sentence_transformers) (3.3.2)\n",
            "Requirement already satisfied: idna<4,>=2.5 in /usr/local/lib/python3.10/dist-packages (from requests->huggingface-hub>=0.4.0->sentence_transformers) (3.6)\n",
            "Requirement already satisfied: urllib3<3,>=1.21.1 in /usr/local/lib/python3.10/dist-packages (from requests->huggingface-hub>=0.4.0->sentence_transformers) (2.0.7)\n",
            "Requirement already satisfied: certifi>=2017.4.17 in /usr/local/lib/python3.10/dist-packages (from requests->huggingface-hub>=0.4.0->sentence_transformers) (2023.11.17)\n",
            "Requirement already satisfied: mpmath>=0.19 in /usr/local/lib/python3.10/dist-packages (from sympy->torch>=1.6.0->sentence_transformers) (1.3.0)\n"
          ]
        }
      ]
    },
    {
      "cell_type": "code",
      "source": [
        "from google.colab import drive\n",
        "drive.mount('/content/drive')"
      ],
      "metadata": {
        "colab": {
          "base_uri": "https://localhost:8080/"
        },
        "id": "dW44jIVJmgyO",
        "outputId": "d9d8b733-229b-4c7b-e688-ac5a0c032f9c"
      },
      "execution_count": 174,
      "outputs": [
        {
          "output_type": "stream",
          "name": "stdout",
          "text": [
            "Drive already mounted at /content/drive; to attempt to forcibly remount, call drive.mount(\"/content/drive\", force_remount=True).\n"
          ]
        }
      ]
    },
    {
      "cell_type": "code",
      "source": [
        "import os.path as osp\n",
        "import pandas as pd\n",
        "import torch\n",
        "from torch_geometric.data import HeteroData\n",
        "from torch_geometric.transforms import RandomLinkSplit, ToUndirected\n",
        "from sentence_transformers import SentenceTransformer\n",
        "from torch_geometric.data import Data\n",
        "df = pd.read_json('/content/drive/MyDrive/data/AMAZON_FASHION_5.json', lines=True)\n",
        "df.head()\n"
      ],
      "metadata": {
        "colab": {
          "base_uri": "https://localhost:8080/",
          "height": 449
        },
        "id": "11cR_CDMDV03",
        "outputId": "918c0f50-1ebc-4412-944e-fdb651681e95"
      },
      "execution_count": 175,
      "outputs": [
        {
          "output_type": "execute_result",
          "data": {
            "text/plain": [
              "   overall  verified  reviewTime     reviewerID        asin  \\\n",
              "0        5      True  09 4, 2015  ALJ66O1Y6SLHA  B000K2PJ4K   \n",
              "1        5      True  09 4, 2015  ALJ66O1Y6SLHA  B000K2PJ4K   \n",
              "2        5      True  09 4, 2015  ALJ66O1Y6SLHA  B000K2PJ4K   \n",
              "3        5      True  09 4, 2015  ALJ66O1Y6SLHA  B000K2PJ4K   \n",
              "4        5      True  09 4, 2015  ALJ66O1Y6SLHA  B000K2PJ4K   \n",
              "\n",
              "                                               style reviewerName  \\\n",
              "0   {'Size:': ' Big Boys', 'Color:': ' Blue/Orange'}     Tonya B.   \n",
              "1  {'Size:': ' Big Boys', 'Color:': ' Black (3746...     Tonya B.   \n",
              "2  {'Size:': ' Big Boys', 'Color:': ' Blue/Gray L...     Tonya B.   \n",
              "3  {'Size:': ' Big Boys', 'Color:': ' Blue (37867...     Tonya B.   \n",
              "4     {'Size:': ' Big Boys', 'Color:': ' Blue/Pink'}     Tonya B.   \n",
              "\n",
              "                 reviewText     summary  unixReviewTime  vote image  \n",
              "0  Great product and price!  Five Stars      1441324800   NaN   NaN  \n",
              "1  Great product and price!  Five Stars      1441324800   NaN   NaN  \n",
              "2  Great product and price!  Five Stars      1441324800   NaN   NaN  \n",
              "3  Great product and price!  Five Stars      1441324800   NaN   NaN  \n",
              "4  Great product and price!  Five Stars      1441324800   NaN   NaN  "
            ],
            "text/html": [
              "\n",
              "  <div id=\"df-02a9e31b-55e6-4fcb-a208-766f0304187f\" class=\"colab-df-container\">\n",
              "    <div>\n",
              "<style scoped>\n",
              "    .dataframe tbody tr th:only-of-type {\n",
              "        vertical-align: middle;\n",
              "    }\n",
              "\n",
              "    .dataframe tbody tr th {\n",
              "        vertical-align: top;\n",
              "    }\n",
              "\n",
              "    .dataframe thead th {\n",
              "        text-align: right;\n",
              "    }\n",
              "</style>\n",
              "<table border=\"1\" class=\"dataframe\">\n",
              "  <thead>\n",
              "    <tr style=\"text-align: right;\">\n",
              "      <th></th>\n",
              "      <th>overall</th>\n",
              "      <th>verified</th>\n",
              "      <th>reviewTime</th>\n",
              "      <th>reviewerID</th>\n",
              "      <th>asin</th>\n",
              "      <th>style</th>\n",
              "      <th>reviewerName</th>\n",
              "      <th>reviewText</th>\n",
              "      <th>summary</th>\n",
              "      <th>unixReviewTime</th>\n",
              "      <th>vote</th>\n",
              "      <th>image</th>\n",
              "    </tr>\n",
              "  </thead>\n",
              "  <tbody>\n",
              "    <tr>\n",
              "      <th>0</th>\n",
              "      <td>5</td>\n",
              "      <td>True</td>\n",
              "      <td>09 4, 2015</td>\n",
              "      <td>ALJ66O1Y6SLHA</td>\n",
              "      <td>B000K2PJ4K</td>\n",
              "      <td>{'Size:': ' Big Boys', 'Color:': ' Blue/Orange'}</td>\n",
              "      <td>Tonya B.</td>\n",
              "      <td>Great product and price!</td>\n",
              "      <td>Five Stars</td>\n",
              "      <td>1441324800</td>\n",
              "      <td>NaN</td>\n",
              "      <td>NaN</td>\n",
              "    </tr>\n",
              "    <tr>\n",
              "      <th>1</th>\n",
              "      <td>5</td>\n",
              "      <td>True</td>\n",
              "      <td>09 4, 2015</td>\n",
              "      <td>ALJ66O1Y6SLHA</td>\n",
              "      <td>B000K2PJ4K</td>\n",
              "      <td>{'Size:': ' Big Boys', 'Color:': ' Black (3746...</td>\n",
              "      <td>Tonya B.</td>\n",
              "      <td>Great product and price!</td>\n",
              "      <td>Five Stars</td>\n",
              "      <td>1441324800</td>\n",
              "      <td>NaN</td>\n",
              "      <td>NaN</td>\n",
              "    </tr>\n",
              "    <tr>\n",
              "      <th>2</th>\n",
              "      <td>5</td>\n",
              "      <td>True</td>\n",
              "      <td>09 4, 2015</td>\n",
              "      <td>ALJ66O1Y6SLHA</td>\n",
              "      <td>B000K2PJ4K</td>\n",
              "      <td>{'Size:': ' Big Boys', 'Color:': ' Blue/Gray L...</td>\n",
              "      <td>Tonya B.</td>\n",
              "      <td>Great product and price!</td>\n",
              "      <td>Five Stars</td>\n",
              "      <td>1441324800</td>\n",
              "      <td>NaN</td>\n",
              "      <td>NaN</td>\n",
              "    </tr>\n",
              "    <tr>\n",
              "      <th>3</th>\n",
              "      <td>5</td>\n",
              "      <td>True</td>\n",
              "      <td>09 4, 2015</td>\n",
              "      <td>ALJ66O1Y6SLHA</td>\n",
              "      <td>B000K2PJ4K</td>\n",
              "      <td>{'Size:': ' Big Boys', 'Color:': ' Blue (37867...</td>\n",
              "      <td>Tonya B.</td>\n",
              "      <td>Great product and price!</td>\n",
              "      <td>Five Stars</td>\n",
              "      <td>1441324800</td>\n",
              "      <td>NaN</td>\n",
              "      <td>NaN</td>\n",
              "    </tr>\n",
              "    <tr>\n",
              "      <th>4</th>\n",
              "      <td>5</td>\n",
              "      <td>True</td>\n",
              "      <td>09 4, 2015</td>\n",
              "      <td>ALJ66O1Y6SLHA</td>\n",
              "      <td>B000K2PJ4K</td>\n",
              "      <td>{'Size:': ' Big Boys', 'Color:': ' Blue/Pink'}</td>\n",
              "      <td>Tonya B.</td>\n",
              "      <td>Great product and price!</td>\n",
              "      <td>Five Stars</td>\n",
              "      <td>1441324800</td>\n",
              "      <td>NaN</td>\n",
              "      <td>NaN</td>\n",
              "    </tr>\n",
              "  </tbody>\n",
              "</table>\n",
              "</div>\n",
              "    <div class=\"colab-df-buttons\">\n",
              "\n",
              "  <div class=\"colab-df-container\">\n",
              "    <button class=\"colab-df-convert\" onclick=\"convertToInteractive('df-02a9e31b-55e6-4fcb-a208-766f0304187f')\"\n",
              "            title=\"Convert this dataframe to an interactive table.\"\n",
              "            style=\"display:none;\">\n",
              "\n",
              "  <svg xmlns=\"http://www.w3.org/2000/svg\" height=\"24px\" viewBox=\"0 -960 960 960\">\n",
              "    <path d=\"M120-120v-720h720v720H120Zm60-500h600v-160H180v160Zm220 220h160v-160H400v160Zm0 220h160v-160H400v160ZM180-400h160v-160H180v160Zm440 0h160v-160H620v160ZM180-180h160v-160H180v160Zm440 0h160v-160H620v160Z\"/>\n",
              "  </svg>\n",
              "    </button>\n",
              "\n",
              "  <style>\n",
              "    .colab-df-container {\n",
              "      display:flex;\n",
              "      gap: 12px;\n",
              "    }\n",
              "\n",
              "    .colab-df-convert {\n",
              "      background-color: #E8F0FE;\n",
              "      border: none;\n",
              "      border-radius: 50%;\n",
              "      cursor: pointer;\n",
              "      display: none;\n",
              "      fill: #1967D2;\n",
              "      height: 32px;\n",
              "      padding: 0 0 0 0;\n",
              "      width: 32px;\n",
              "    }\n",
              "\n",
              "    .colab-df-convert:hover {\n",
              "      background-color: #E2EBFA;\n",
              "      box-shadow: 0px 1px 2px rgba(60, 64, 67, 0.3), 0px 1px 3px 1px rgba(60, 64, 67, 0.15);\n",
              "      fill: #174EA6;\n",
              "    }\n",
              "\n",
              "    .colab-df-buttons div {\n",
              "      margin-bottom: 4px;\n",
              "    }\n",
              "\n",
              "    [theme=dark] .colab-df-convert {\n",
              "      background-color: #3B4455;\n",
              "      fill: #D2E3FC;\n",
              "    }\n",
              "\n",
              "    [theme=dark] .colab-df-convert:hover {\n",
              "      background-color: #434B5C;\n",
              "      box-shadow: 0px 1px 3px 1px rgba(0, 0, 0, 0.15);\n",
              "      filter: drop-shadow(0px 1px 2px rgba(0, 0, 0, 0.3));\n",
              "      fill: #FFFFFF;\n",
              "    }\n",
              "  </style>\n",
              "\n",
              "    <script>\n",
              "      const buttonEl =\n",
              "        document.querySelector('#df-02a9e31b-55e6-4fcb-a208-766f0304187f button.colab-df-convert');\n",
              "      buttonEl.style.display =\n",
              "        google.colab.kernel.accessAllowed ? 'block' : 'none';\n",
              "\n",
              "      async function convertToInteractive(key) {\n",
              "        const element = document.querySelector('#df-02a9e31b-55e6-4fcb-a208-766f0304187f');\n",
              "        const dataTable =\n",
              "          await google.colab.kernel.invokeFunction('convertToInteractive',\n",
              "                                                    [key], {});\n",
              "        if (!dataTable) return;\n",
              "\n",
              "        const docLinkHtml = 'Like what you see? Visit the ' +\n",
              "          '<a target=\"_blank\" href=https://colab.research.google.com/notebooks/data_table.ipynb>data table notebook</a>'\n",
              "          + ' to learn more about interactive tables.';\n",
              "        element.innerHTML = '';\n",
              "        dataTable['output_type'] = 'display_data';\n",
              "        await google.colab.output.renderOutput(dataTable, element);\n",
              "        const docLink = document.createElement('div');\n",
              "        docLink.innerHTML = docLinkHtml;\n",
              "        element.appendChild(docLink);\n",
              "      }\n",
              "    </script>\n",
              "  </div>\n",
              "\n",
              "\n",
              "<div id=\"df-f0d4c3f8-3d8f-4846-8c97-ddfc40fa9636\">\n",
              "  <button class=\"colab-df-quickchart\" onclick=\"quickchart('df-f0d4c3f8-3d8f-4846-8c97-ddfc40fa9636')\"\n",
              "            title=\"Suggest charts\"\n",
              "            style=\"display:none;\">\n",
              "\n",
              "<svg xmlns=\"http://www.w3.org/2000/svg\" height=\"24px\"viewBox=\"0 0 24 24\"\n",
              "     width=\"24px\">\n",
              "    <g>\n",
              "        <path d=\"M19 3H5c-1.1 0-2 .9-2 2v14c0 1.1.9 2 2 2h14c1.1 0 2-.9 2-2V5c0-1.1-.9-2-2-2zM9 17H7v-7h2v7zm4 0h-2V7h2v10zm4 0h-2v-4h2v4z\"/>\n",
              "    </g>\n",
              "</svg>\n",
              "  </button>\n",
              "\n",
              "<style>\n",
              "  .colab-df-quickchart {\n",
              "      --bg-color: #E8F0FE;\n",
              "      --fill-color: #1967D2;\n",
              "      --hover-bg-color: #E2EBFA;\n",
              "      --hover-fill-color: #174EA6;\n",
              "      --disabled-fill-color: #AAA;\n",
              "      --disabled-bg-color: #DDD;\n",
              "  }\n",
              "\n",
              "  [theme=dark] .colab-df-quickchart {\n",
              "      --bg-color: #3B4455;\n",
              "      --fill-color: #D2E3FC;\n",
              "      --hover-bg-color: #434B5C;\n",
              "      --hover-fill-color: #FFFFFF;\n",
              "      --disabled-bg-color: #3B4455;\n",
              "      --disabled-fill-color: #666;\n",
              "  }\n",
              "\n",
              "  .colab-df-quickchart {\n",
              "    background-color: var(--bg-color);\n",
              "    border: none;\n",
              "    border-radius: 50%;\n",
              "    cursor: pointer;\n",
              "    display: none;\n",
              "    fill: var(--fill-color);\n",
              "    height: 32px;\n",
              "    padding: 0;\n",
              "    width: 32px;\n",
              "  }\n",
              "\n",
              "  .colab-df-quickchart:hover {\n",
              "    background-color: var(--hover-bg-color);\n",
              "    box-shadow: 0 1px 2px rgba(60, 64, 67, 0.3), 0 1px 3px 1px rgba(60, 64, 67, 0.15);\n",
              "    fill: var(--button-hover-fill-color);\n",
              "  }\n",
              "\n",
              "  .colab-df-quickchart-complete:disabled,\n",
              "  .colab-df-quickchart-complete:disabled:hover {\n",
              "    background-color: var(--disabled-bg-color);\n",
              "    fill: var(--disabled-fill-color);\n",
              "    box-shadow: none;\n",
              "  }\n",
              "\n",
              "  .colab-df-spinner {\n",
              "    border: 2px solid var(--fill-color);\n",
              "    border-color: transparent;\n",
              "    border-bottom-color: var(--fill-color);\n",
              "    animation:\n",
              "      spin 1s steps(1) infinite;\n",
              "  }\n",
              "\n",
              "  @keyframes spin {\n",
              "    0% {\n",
              "      border-color: transparent;\n",
              "      border-bottom-color: var(--fill-color);\n",
              "      border-left-color: var(--fill-color);\n",
              "    }\n",
              "    20% {\n",
              "      border-color: transparent;\n",
              "      border-left-color: var(--fill-color);\n",
              "      border-top-color: var(--fill-color);\n",
              "    }\n",
              "    30% {\n",
              "      border-color: transparent;\n",
              "      border-left-color: var(--fill-color);\n",
              "      border-top-color: var(--fill-color);\n",
              "      border-right-color: var(--fill-color);\n",
              "    }\n",
              "    40% {\n",
              "      border-color: transparent;\n",
              "      border-right-color: var(--fill-color);\n",
              "      border-top-color: var(--fill-color);\n",
              "    }\n",
              "    60% {\n",
              "      border-color: transparent;\n",
              "      border-right-color: var(--fill-color);\n",
              "    }\n",
              "    80% {\n",
              "      border-color: transparent;\n",
              "      border-right-color: var(--fill-color);\n",
              "      border-bottom-color: var(--fill-color);\n",
              "    }\n",
              "    90% {\n",
              "      border-color: transparent;\n",
              "      border-bottom-color: var(--fill-color);\n",
              "    }\n",
              "  }\n",
              "</style>\n",
              "\n",
              "  <script>\n",
              "    async function quickchart(key) {\n",
              "      const quickchartButtonEl =\n",
              "        document.querySelector('#' + key + ' button');\n",
              "      quickchartButtonEl.disabled = true;  // To prevent multiple clicks.\n",
              "      quickchartButtonEl.classList.add('colab-df-spinner');\n",
              "      try {\n",
              "        const charts = await google.colab.kernel.invokeFunction(\n",
              "            'suggestCharts', [key], {});\n",
              "      } catch (error) {\n",
              "        console.error('Error during call to suggestCharts:', error);\n",
              "      }\n",
              "      quickchartButtonEl.classList.remove('colab-df-spinner');\n",
              "      quickchartButtonEl.classList.add('colab-df-quickchart-complete');\n",
              "    }\n",
              "    (() => {\n",
              "      let quickchartButtonEl =\n",
              "        document.querySelector('#df-f0d4c3f8-3d8f-4846-8c97-ddfc40fa9636 button');\n",
              "      quickchartButtonEl.style.display =\n",
              "        google.colab.kernel.accessAllowed ? 'block' : 'none';\n",
              "    })();\n",
              "  </script>\n",
              "</div>\n",
              "    </div>\n",
              "  </div>\n"
            ]
          },
          "metadata": {},
          "execution_count": 175
        }
      ]
    },
    {
      "cell_type": "code",
      "execution_count": 176,
      "metadata": {
        "colab": {
          "base_uri": "https://localhost:8080/",
          "height": 206
        },
        "id": "49wOBEmTDS_g",
        "outputId": "24d7d0e1-8911-4420-cc49-075c8f8668dc"
      },
      "outputs": [
        {
          "output_type": "execute_result",
          "data": {
            "text/plain": [
              "   overall     reviewerID        asin reviewerName                reviewText\n",
              "0        5  ALJ66O1Y6SLHA  B000K2PJ4K     Tonya B.  Great product and price!\n",
              "1        5  ALJ66O1Y6SLHA  B000K2PJ4K     Tonya B.  Great product and price!\n",
              "2        5  ALJ66O1Y6SLHA  B000K2PJ4K     Tonya B.  Great product and price!\n",
              "3        5  ALJ66O1Y6SLHA  B000K2PJ4K     Tonya B.  Great product and price!\n",
              "4        5  ALJ66O1Y6SLHA  B000K2PJ4K     Tonya B.  Great product and price!"
            ],
            "text/html": [
              "\n",
              "  <div id=\"df-638ebb50-b45e-4f19-b8b2-5b0fc7aa0400\" class=\"colab-df-container\">\n",
              "    <div>\n",
              "<style scoped>\n",
              "    .dataframe tbody tr th:only-of-type {\n",
              "        vertical-align: middle;\n",
              "    }\n",
              "\n",
              "    .dataframe tbody tr th {\n",
              "        vertical-align: top;\n",
              "    }\n",
              "\n",
              "    .dataframe thead th {\n",
              "        text-align: right;\n",
              "    }\n",
              "</style>\n",
              "<table border=\"1\" class=\"dataframe\">\n",
              "  <thead>\n",
              "    <tr style=\"text-align: right;\">\n",
              "      <th></th>\n",
              "      <th>overall</th>\n",
              "      <th>reviewerID</th>\n",
              "      <th>asin</th>\n",
              "      <th>reviewerName</th>\n",
              "      <th>reviewText</th>\n",
              "    </tr>\n",
              "  </thead>\n",
              "  <tbody>\n",
              "    <tr>\n",
              "      <th>0</th>\n",
              "      <td>5</td>\n",
              "      <td>ALJ66O1Y6SLHA</td>\n",
              "      <td>B000K2PJ4K</td>\n",
              "      <td>Tonya B.</td>\n",
              "      <td>Great product and price!</td>\n",
              "    </tr>\n",
              "    <tr>\n",
              "      <th>1</th>\n",
              "      <td>5</td>\n",
              "      <td>ALJ66O1Y6SLHA</td>\n",
              "      <td>B000K2PJ4K</td>\n",
              "      <td>Tonya B.</td>\n",
              "      <td>Great product and price!</td>\n",
              "    </tr>\n",
              "    <tr>\n",
              "      <th>2</th>\n",
              "      <td>5</td>\n",
              "      <td>ALJ66O1Y6SLHA</td>\n",
              "      <td>B000K2PJ4K</td>\n",
              "      <td>Tonya B.</td>\n",
              "      <td>Great product and price!</td>\n",
              "    </tr>\n",
              "    <tr>\n",
              "      <th>3</th>\n",
              "      <td>5</td>\n",
              "      <td>ALJ66O1Y6SLHA</td>\n",
              "      <td>B000K2PJ4K</td>\n",
              "      <td>Tonya B.</td>\n",
              "      <td>Great product and price!</td>\n",
              "    </tr>\n",
              "    <tr>\n",
              "      <th>4</th>\n",
              "      <td>5</td>\n",
              "      <td>ALJ66O1Y6SLHA</td>\n",
              "      <td>B000K2PJ4K</td>\n",
              "      <td>Tonya B.</td>\n",
              "      <td>Great product and price!</td>\n",
              "    </tr>\n",
              "  </tbody>\n",
              "</table>\n",
              "</div>\n",
              "    <div class=\"colab-df-buttons\">\n",
              "\n",
              "  <div class=\"colab-df-container\">\n",
              "    <button class=\"colab-df-convert\" onclick=\"convertToInteractive('df-638ebb50-b45e-4f19-b8b2-5b0fc7aa0400')\"\n",
              "            title=\"Convert this dataframe to an interactive table.\"\n",
              "            style=\"display:none;\">\n",
              "\n",
              "  <svg xmlns=\"http://www.w3.org/2000/svg\" height=\"24px\" viewBox=\"0 -960 960 960\">\n",
              "    <path d=\"M120-120v-720h720v720H120Zm60-500h600v-160H180v160Zm220 220h160v-160H400v160Zm0 220h160v-160H400v160ZM180-400h160v-160H180v160Zm440 0h160v-160H620v160ZM180-180h160v-160H180v160Zm440 0h160v-160H620v160Z\"/>\n",
              "  </svg>\n",
              "    </button>\n",
              "\n",
              "  <style>\n",
              "    .colab-df-container {\n",
              "      display:flex;\n",
              "      gap: 12px;\n",
              "    }\n",
              "\n",
              "    .colab-df-convert {\n",
              "      background-color: #E8F0FE;\n",
              "      border: none;\n",
              "      border-radius: 50%;\n",
              "      cursor: pointer;\n",
              "      display: none;\n",
              "      fill: #1967D2;\n",
              "      height: 32px;\n",
              "      padding: 0 0 0 0;\n",
              "      width: 32px;\n",
              "    }\n",
              "\n",
              "    .colab-df-convert:hover {\n",
              "      background-color: #E2EBFA;\n",
              "      box-shadow: 0px 1px 2px rgba(60, 64, 67, 0.3), 0px 1px 3px 1px rgba(60, 64, 67, 0.15);\n",
              "      fill: #174EA6;\n",
              "    }\n",
              "\n",
              "    .colab-df-buttons div {\n",
              "      margin-bottom: 4px;\n",
              "    }\n",
              "\n",
              "    [theme=dark] .colab-df-convert {\n",
              "      background-color: #3B4455;\n",
              "      fill: #D2E3FC;\n",
              "    }\n",
              "\n",
              "    [theme=dark] .colab-df-convert:hover {\n",
              "      background-color: #434B5C;\n",
              "      box-shadow: 0px 1px 3px 1px rgba(0, 0, 0, 0.15);\n",
              "      filter: drop-shadow(0px 1px 2px rgba(0, 0, 0, 0.3));\n",
              "      fill: #FFFFFF;\n",
              "    }\n",
              "  </style>\n",
              "\n",
              "    <script>\n",
              "      const buttonEl =\n",
              "        document.querySelector('#df-638ebb50-b45e-4f19-b8b2-5b0fc7aa0400 button.colab-df-convert');\n",
              "      buttonEl.style.display =\n",
              "        google.colab.kernel.accessAllowed ? 'block' : 'none';\n",
              "\n",
              "      async function convertToInteractive(key) {\n",
              "        const element = document.querySelector('#df-638ebb50-b45e-4f19-b8b2-5b0fc7aa0400');\n",
              "        const dataTable =\n",
              "          await google.colab.kernel.invokeFunction('convertToInteractive',\n",
              "                                                    [key], {});\n",
              "        if (!dataTable) return;\n",
              "\n",
              "        const docLinkHtml = 'Like what you see? Visit the ' +\n",
              "          '<a target=\"_blank\" href=https://colab.research.google.com/notebooks/data_table.ipynb>data table notebook</a>'\n",
              "          + ' to learn more about interactive tables.';\n",
              "        element.innerHTML = '';\n",
              "        dataTable['output_type'] = 'display_data';\n",
              "        await google.colab.output.renderOutput(dataTable, element);\n",
              "        const docLink = document.createElement('div');\n",
              "        docLink.innerHTML = docLinkHtml;\n",
              "        element.appendChild(docLink);\n",
              "      }\n",
              "    </script>\n",
              "  </div>\n",
              "\n",
              "\n",
              "<div id=\"df-4f1ace1b-9825-47e4-9900-0d26f47e2a4e\">\n",
              "  <button class=\"colab-df-quickchart\" onclick=\"quickchart('df-4f1ace1b-9825-47e4-9900-0d26f47e2a4e')\"\n",
              "            title=\"Suggest charts\"\n",
              "            style=\"display:none;\">\n",
              "\n",
              "<svg xmlns=\"http://www.w3.org/2000/svg\" height=\"24px\"viewBox=\"0 0 24 24\"\n",
              "     width=\"24px\">\n",
              "    <g>\n",
              "        <path d=\"M19 3H5c-1.1 0-2 .9-2 2v14c0 1.1.9 2 2 2h14c1.1 0 2-.9 2-2V5c0-1.1-.9-2-2-2zM9 17H7v-7h2v7zm4 0h-2V7h2v10zm4 0h-2v-4h2v4z\"/>\n",
              "    </g>\n",
              "</svg>\n",
              "  </button>\n",
              "\n",
              "<style>\n",
              "  .colab-df-quickchart {\n",
              "      --bg-color: #E8F0FE;\n",
              "      --fill-color: #1967D2;\n",
              "      --hover-bg-color: #E2EBFA;\n",
              "      --hover-fill-color: #174EA6;\n",
              "      --disabled-fill-color: #AAA;\n",
              "      --disabled-bg-color: #DDD;\n",
              "  }\n",
              "\n",
              "  [theme=dark] .colab-df-quickchart {\n",
              "      --bg-color: #3B4455;\n",
              "      --fill-color: #D2E3FC;\n",
              "      --hover-bg-color: #434B5C;\n",
              "      --hover-fill-color: #FFFFFF;\n",
              "      --disabled-bg-color: #3B4455;\n",
              "      --disabled-fill-color: #666;\n",
              "  }\n",
              "\n",
              "  .colab-df-quickchart {\n",
              "    background-color: var(--bg-color);\n",
              "    border: none;\n",
              "    border-radius: 50%;\n",
              "    cursor: pointer;\n",
              "    display: none;\n",
              "    fill: var(--fill-color);\n",
              "    height: 32px;\n",
              "    padding: 0;\n",
              "    width: 32px;\n",
              "  }\n",
              "\n",
              "  .colab-df-quickchart:hover {\n",
              "    background-color: var(--hover-bg-color);\n",
              "    box-shadow: 0 1px 2px rgba(60, 64, 67, 0.3), 0 1px 3px 1px rgba(60, 64, 67, 0.15);\n",
              "    fill: var(--button-hover-fill-color);\n",
              "  }\n",
              "\n",
              "  .colab-df-quickchart-complete:disabled,\n",
              "  .colab-df-quickchart-complete:disabled:hover {\n",
              "    background-color: var(--disabled-bg-color);\n",
              "    fill: var(--disabled-fill-color);\n",
              "    box-shadow: none;\n",
              "  }\n",
              "\n",
              "  .colab-df-spinner {\n",
              "    border: 2px solid var(--fill-color);\n",
              "    border-color: transparent;\n",
              "    border-bottom-color: var(--fill-color);\n",
              "    animation:\n",
              "      spin 1s steps(1) infinite;\n",
              "  }\n",
              "\n",
              "  @keyframes spin {\n",
              "    0% {\n",
              "      border-color: transparent;\n",
              "      border-bottom-color: var(--fill-color);\n",
              "      border-left-color: var(--fill-color);\n",
              "    }\n",
              "    20% {\n",
              "      border-color: transparent;\n",
              "      border-left-color: var(--fill-color);\n",
              "      border-top-color: var(--fill-color);\n",
              "    }\n",
              "    30% {\n",
              "      border-color: transparent;\n",
              "      border-left-color: var(--fill-color);\n",
              "      border-top-color: var(--fill-color);\n",
              "      border-right-color: var(--fill-color);\n",
              "    }\n",
              "    40% {\n",
              "      border-color: transparent;\n",
              "      border-right-color: var(--fill-color);\n",
              "      border-top-color: var(--fill-color);\n",
              "    }\n",
              "    60% {\n",
              "      border-color: transparent;\n",
              "      border-right-color: var(--fill-color);\n",
              "    }\n",
              "    80% {\n",
              "      border-color: transparent;\n",
              "      border-right-color: var(--fill-color);\n",
              "      border-bottom-color: var(--fill-color);\n",
              "    }\n",
              "    90% {\n",
              "      border-color: transparent;\n",
              "      border-bottom-color: var(--fill-color);\n",
              "    }\n",
              "  }\n",
              "</style>\n",
              "\n",
              "  <script>\n",
              "    async function quickchart(key) {\n",
              "      const quickchartButtonEl =\n",
              "        document.querySelector('#' + key + ' button');\n",
              "      quickchartButtonEl.disabled = true;  // To prevent multiple clicks.\n",
              "      quickchartButtonEl.classList.add('colab-df-spinner');\n",
              "      try {\n",
              "        const charts = await google.colab.kernel.invokeFunction(\n",
              "            'suggestCharts', [key], {});\n",
              "      } catch (error) {\n",
              "        console.error('Error during call to suggestCharts:', error);\n",
              "      }\n",
              "      quickchartButtonEl.classList.remove('colab-df-spinner');\n",
              "      quickchartButtonEl.classList.add('colab-df-quickchart-complete');\n",
              "    }\n",
              "    (() => {\n",
              "      let quickchartButtonEl =\n",
              "        document.querySelector('#df-4f1ace1b-9825-47e4-9900-0d26f47e2a4e button');\n",
              "      quickchartButtonEl.style.display =\n",
              "        google.colab.kernel.accessAllowed ? 'block' : 'none';\n",
              "    })();\n",
              "  </script>\n",
              "</div>\n",
              "    </div>\n",
              "  </div>\n"
            ]
          },
          "metadata": {},
          "execution_count": 176
        }
      ],
      "source": [
        "df.drop(['style', 'image', 'verified', 'summary', 'reviewTime', 'unixReviewTime', 'vote'], axis=1, inplace=True)\n",
        "df.head()"
      ]
    },
    {
      "cell_type": "code",
      "source": [
        "df.dropna(inplace=True)"
      ],
      "metadata": {
        "id": "FjZCUbu_OvLB"
      },
      "execution_count": 177,
      "outputs": []
    },
    {
      "cell_type": "code",
      "source": [
        "missing_values = df.isnull().sum()\n",
        "missing_values"
      ],
      "metadata": {
        "colab": {
          "base_uri": "https://localhost:8080/"
        },
        "id": "91YUpD_5PQAA",
        "outputId": "56b7eeb1-26ab-4f79-e21d-d190f056d702"
      },
      "execution_count": 178,
      "outputs": [
        {
          "output_type": "execute_result",
          "data": {
            "text/plain": [
              "overall         0\n",
              "reviewerID      0\n",
              "asin            0\n",
              "reviewerName    0\n",
              "reviewText      0\n",
              "dtype: int64"
            ]
          },
          "metadata": {},
          "execution_count": 178
        }
      ]
    },
    {
      "cell_type": "code",
      "source": [
        "user_mapping = {index: i for i, index in enumerate(df.reviewerID.unique())}\n",
        "item_mapping = {index: i for i, index in enumerate(df.asin.unique())}"
      ],
      "metadata": {
        "id": "uQxYwWrPMYH1"
      },
      "execution_count": 179,
      "outputs": []
    },
    {
      "cell_type": "code",
      "execution_count": 179,
      "metadata": {
        "id": "9jM2vqGzDS_h"
      },
      "outputs": [],
      "source": []
    },
    {
      "cell_type": "code",
      "execution_count": 180,
      "metadata": {
        "id": "3x6z5jhzDS_h"
      },
      "outputs": [],
      "source": [
        "import torchtext\n",
        "\n",
        "def title2vector(x):\n",
        "    x=x.split(\"(\")[0]\n",
        "    x2v=glove840b.get_vecs_by_tokens([ xi.lower() for xi in x.split(\" \")])\n",
        "    if len(x2v.size())==2:\n",
        "        x2v=x2v.mean(dim=0)\n",
        "    return x2v.view(1,300)\n",
        "\n",
        "glove840b=torchtext.vocab.GloVe(\"840B\")"
      ]
    },
    {
      "cell_type": "code",
      "source": [
        "def text2vector(x):\n",
        "    x2v=glove840b.get_vecs_by_tokens([ xi.lower() for xi in x.split(\" \")])\n",
        "    x2v=x2v.mean(dim=0)\n",
        "    return x2v.view(-1,300) #feature dim =300, output=(1,300)"
      ],
      "metadata": {
        "id": "TGIRypArLsil"
      },
      "execution_count": 181,
      "outputs": []
    },
    {
      "cell_type": "markdown",
      "source": [
        "GloVe feature"
      ],
      "metadata": {
        "id": "tWga9y62dn-B"
      }
    },
    {
      "cell_type": "code",
      "source": [
        "asin_feature={}\n",
        "for asin, reviews in df.groupby('asin')['reviewText']:\n",
        "  # print(asin)\n",
        "  item_reviews=[]\n",
        "  for review in reviews:\n",
        "    item_reviews.append(text2vector(review))\n",
        "  reviews_tensor = torch.cat(item_reviews)\n",
        "  # print(reviews_tensor.shape)\n",
        "  item_mean = torch.mean(reviews_tensor,dim=0)\n",
        "  # print(item_mean.shape)\n",
        "  asin_feature[asin] = item_mean\n",
        "    # asin_feature{asin:}"
      ],
      "metadata": {
        "id": "2T0X3bxMmF2B"
      },
      "execution_count": 182,
      "outputs": []
    },
    {
      "cell_type": "markdown",
      "source": [
        "TF-idF feature"
      ],
      "metadata": {
        "id": "UtZbC5WNdpqb"
      }
    },
    {
      "cell_type": "code",
      "source": [
        "from sklearn.feature_extraction.text import TfidfVectorizer\n",
        "# Extract item node features from review texts using TF-IDF\n",
        "vectorizer = TfidfVectorizer(max_features=300)\n",
        "texts = df.reviewText\n",
        "vectorizer.fit(texts)\n",
        "# item_features = vectorizer.fit_transform(texts).toarray()\n",
        "# item_features_tensor = torch.tensor(item_features, dtype=torch.float)\n",
        "# print(item_features_tensor.shape)\n",
        "asin_feature_tf={}\n",
        "for asin, reviews in df.groupby('asin')['reviewText']:\n",
        "  item_features = vectorizer.transform(reviews).toarray()\n",
        "  item_features_tensor = torch.tensor(item_features, dtype=torch.float)\n",
        "  item_mean = torch.mean(item_features_tensor, dim=0)\n",
        "  # print(item_mean.shape)\n",
        "  asin_feature_tf[asin] = item_mean\n",
        "    # asin_feature{asin:}\n",
        "print(len(asin_feature_tf))"
      ],
      "metadata": {
        "colab": {
          "base_uri": "https://localhost:8080/"
        },
        "id": "fXtxSOFDdBSg",
        "outputId": "d46c6c4a-51bd-4667-9d98-cb029852ccc6"
      },
      "execution_count": 183,
      "outputs": [
        {
          "output_type": "stream",
          "name": "stdout",
          "text": [
            "31\n"
          ]
        }
      ]
    },
    {
      "cell_type": "code",
      "source": [
        "data = HeteroData()\n",
        "\n",
        "data['user'].num_nodes = len(user_mapping)  # Users do not have any features.\n",
        "data['user'].x = torch.eye(data['user'].num_nodes)\n",
        "del data['user'].num_nodes\n",
        "\n",
        "item_embeddings=torch.zeros([len(item_mapping),300])\n",
        "for asin in item_mapping.keys():\n",
        "  idx=item_mapping[asin]\n",
        "  item_embeddings[idx]=asin_feature[asin] # use asin_feature_tf for tf-idf, asin_feature for GloVe\n",
        "data['item'].x = item_embeddings"
      ],
      "metadata": {
        "id": "tE6Hbob6ovIU"
      },
      "execution_count": 184,
      "outputs": []
    },
    {
      "cell_type": "code",
      "source": [
        "#create edge_index for user-item interactions\n",
        "user_item_edge_index = []\n",
        "for index, row in df.iterrows():\n",
        "  user_item_edge_index.append([user_mapping[row['reviewerID']],item_mapping[row['asin']]])\n",
        "user_item_edge_index = torch.tensor(user_item_edge_index).t()\n",
        "user_item_edge_index.shape"
      ],
      "metadata": {
        "colab": {
          "base_uri": "https://localhost:8080/"
        },
        "id": "OBRPqsqX48Xe",
        "outputId": "f58bed40-c7fa-472c-a39c-ba77525cc6a5"
      },
      "execution_count": 185,
      "outputs": [
        {
          "output_type": "execute_result",
          "data": {
            "text/plain": [
              "torch.Size([2, 3160])"
            ]
          },
          "metadata": {},
          "execution_count": 185
        }
      ]
    },
    {
      "cell_type": "code",
      "source": [
        "#create edge_label for user-item interactions\n",
        "user_item_edge_label = []\n",
        "for index, row in df.iterrows():\n",
        "  user_item_edge_label.append(row['overall'])\n",
        "user_item_edge_label = torch.tensor(user_item_edge_label).view(-1,1)\n",
        "print(user_item_edge_label)\n",
        "user_item_edge_label.shape"
      ],
      "metadata": {
        "colab": {
          "base_uri": "https://localhost:8080/"
        },
        "id": "U0Seb1y36UJs",
        "outputId": "c4245d07-1573-42b2-9d94-91946e7a826e"
      },
      "execution_count": 186,
      "outputs": [
        {
          "output_type": "stream",
          "name": "stdout",
          "text": [
            "tensor([[5],\n",
            "        [5],\n",
            "        [5],\n",
            "        ...,\n",
            "        [5],\n",
            "        [5],\n",
            "        [5]])\n"
          ]
        },
        {
          "output_type": "execute_result",
          "data": {
            "text/plain": [
              "torch.Size([3160, 1])"
            ]
          },
          "metadata": {},
          "execution_count": 186
        }
      ]
    },
    {
      "cell_type": "code",
      "source": [
        "data['user', 'rates', 'item'].edge_index = user_item_edge_index\n",
        "data['user', 'rates', 'item'].edge_label = user_item_edge_label\n",
        "print(data)"
      ],
      "metadata": {
        "colab": {
          "base_uri": "https://localhost:8080/"
        },
        "id": "06-5bs8e6Uoa",
        "outputId": "5198981b-bfa1-4034-cb25-a749b575a945"
      },
      "execution_count": 187,
      "outputs": [
        {
          "output_type": "stream",
          "name": "stdout",
          "text": [
            "HeteroData(\n",
            "  user={ x=[404, 404] },\n",
            "  item={ x=[31, 300] },\n",
            "  (user, rates, item)={\n",
            "    edge_index=[2, 3160],\n",
            "    edge_label=[3160, 1],\n",
            "  }\n",
            ")\n"
          ]
        }
      ]
    },
    {
      "cell_type": "code",
      "source": [
        "# 1. Add a reverse ('movie', 'rev_rates', 'user') relation for message passing.\n",
        "data = ToUndirected()(data)\n",
        "del data['item', 'rev_rates', 'user'].edge_label  # Remove \"reverse\" label.\n",
        "\n",
        "print(data)\n",
        "# torch.save(data, '/content/drive/MyDrive/data/amazon_fasion_5.pt')\n",
        "# 2. Perform a link-level split into training, validation, and test edges.\n",
        "transform = RandomLinkSplit(\n",
        "    num_val=0.05,   #0.1\n",
        "    num_test=0.1,   #0.1\n",
        "    neg_sampling_ratio=0.0,\n",
        "    edge_types=[('user', 'rates', 'item')],\n",
        "    rev_edge_types=[('item', 'rev_rates', 'user')],\n",
        ")\n",
        "train_data, val_data, test_data = transform(data)\n",
        "print(train_data)\n",
        "print(val_data)\n",
        "print(test_data)"
      ],
      "metadata": {
        "colab": {
          "base_uri": "https://localhost:8080/"
        },
        "id": "eLTTZamU7BAh",
        "outputId": "36361470-a006-4c6c-bf59-243188bb6549"
      },
      "execution_count": 188,
      "outputs": [
        {
          "output_type": "stream",
          "name": "stdout",
          "text": [
            "HeteroData(\n",
            "  user={ x=[404, 404] },\n",
            "  item={ x=[31, 300] },\n",
            "  (user, rates, item)={\n",
            "    edge_index=[2, 3160],\n",
            "    edge_label=[3160, 1],\n",
            "  },\n",
            "  (item, rev_rates, user)={ edge_index=[2, 3160] }\n",
            ")\n",
            "HeteroData(\n",
            "  user={ x=[404, 404] },\n",
            "  item={ x=[31, 300] },\n",
            "  (user, rates, item)={\n",
            "    edge_index=[2, 2686],\n",
            "    edge_label=[2686, 1],\n",
            "    edge_label_index=[2, 2686],\n",
            "  },\n",
            "  (item, rev_rates, user)={ edge_index=[2, 2686] }\n",
            ")\n",
            "HeteroData(\n",
            "  user={ x=[404, 404] },\n",
            "  item={ x=[31, 300] },\n",
            "  (user, rates, item)={\n",
            "    edge_index=[2, 2686],\n",
            "    edge_label=[158, 1],\n",
            "    edge_label_index=[2, 158],\n",
            "  },\n",
            "  (item, rev_rates, user)={ edge_index=[2, 2686] }\n",
            ")\n",
            "HeteroData(\n",
            "  user={ x=[404, 404] },\n",
            "  item={ x=[31, 300] },\n",
            "  (user, rates, item)={\n",
            "    edge_index=[2, 2844],\n",
            "    edge_label=[316, 1],\n",
            "    edge_label_index=[2, 316],\n",
            "  },\n",
            "  (item, rev_rates, user)={ edge_index=[2, 2844] }\n",
            ")\n"
          ]
        }
      ]
    },
    {
      "cell_type": "code",
      "source": [
        "from torch_geometric.loader import LinkLoader, DataLoader,NeighborLoader, LinkNeighborLoader\n",
        "# # Create LinkLoaders\n",
        "# train_loader = DataLoader(train_data, batch_size=128, shuffle=True)\n",
        "# val_loader = DataLoader(val_data, batch_size=128, shuffle=False)\n",
        "# test_loader = DataLoader(test_data, batch_size=128, shuffle=False)"
      ],
      "metadata": {
        "id": "qgD_oYnYjJC9"
      },
      "execution_count": 189,
      "outputs": []
    },
    {
      "cell_type": "code",
      "source": [
        "batch_si=512\n",
        "train_loader = LinkNeighborLoader(\n",
        "    train_data,\n",
        "    # Sample 30 neighbors for each node and edge type for 2 iterations\n",
        "    num_neighbors={key: [30] * 2 for key in train_data.edge_types},\n",
        "    # Use a batch size of 512 for sampling training edges of type (user rates item)\n",
        "    batch_size=batch_si,\n",
        "    edge_label_index=(('user', 'rates', 'item'),train_data['user', 'rates', 'item'].edge_label_index),\n",
        "    edge_label = train_data['user', 'rates', 'item'].edge_label\n",
        ")\n",
        "val_loader = LinkNeighborLoader(\n",
        "    val_data,\n",
        "    # Sample 30 neighbors for each node and edge type for 2 iterations\n",
        "    num_neighbors={key: [30] * 2 for key in val_data.edge_types},\n",
        "    # Use a batch size of 128 for sampling validation edges of type (user rates item)\n",
        "    batch_size=batch_si,\n",
        "    edge_label_index=(('user', 'rates', 'item'),val_data['user', 'rates', 'item'].edge_label_index),\n",
        "    edge_label = val_data['user', 'rates', 'item'].edge_label\n",
        ")\n",
        "test_loader = LinkNeighborLoader(\n",
        "    test_data,\n",
        "    # Sample 30 neighbors for each node and edge type for 2 iterations\n",
        "    num_neighbors={key: [30] * 2 for key in test_data.edge_types},\n",
        "    # Use a batch size of 128 for sampling testing edges of type (user rates item)\n",
        "    batch_size=batch_si,\n",
        "    edge_label_index=(('user', 'rates', 'item'),test_data['user', 'rates', 'item'].edge_label_index),\n",
        "    edge_label = test_data['user', 'rates', 'item'].edge_label\n",
        ")"
      ],
      "metadata": {
        "colab": {
          "base_uri": "https://localhost:8080/"
        },
        "id": "WV3TV5ENyGWm",
        "outputId": "2451b5a7-3a1b-4ae5-ac6b-2417affee6e7"
      },
      "execution_count": 190,
      "outputs": [
        {
          "output_type": "stream",
          "name": "stderr",
          "text": [
            "/usr/local/lib/python3.10/dist-packages/torch_geometric/sampler/neighbor_sampler.py:60: UserWarning: Using 'NeighborSampler' without a 'pyg-lib' installation is deprecated and will be removed soon. Please install 'pyg-lib' for accelerated neighborhood sampling\n",
            "  warnings.warn(f\"Using '{self.__class__.__name__}' without a \"\n"
          ]
        }
      ]
    },
    {
      "cell_type": "code",
      "source": [],
      "metadata": {
        "id": "Jb717PO4HDuf"
      },
      "execution_count": 190,
      "outputs": []
    },
    {
      "cell_type": "code",
      "source": [
        "for step, data in enumerate(train_loader):\n",
        "    print(f'Step {step + 1}, number of edges in the current batch: {data.num_edges}')\n",
        "    print(f'Step {step + 1}, number of nodes in the current batch: {data.num_nodes}')\n",
        "    print(data)"
      ],
      "metadata": {
        "colab": {
          "base_uri": "https://localhost:8080/"
        },
        "id": "mBpzXtXYjKJd",
        "outputId": "64d2ca47-0401-4ed1-9a23-7a37aaff9a74"
      },
      "execution_count": 191,
      "outputs": [
        {
          "output_type": "stream",
          "name": "stdout",
          "text": [
            "Step 1, number of edges in the current batch: 2807\n",
            "Step 1, number of nodes in the current batch: 394\n",
            "HeteroData(\n",
            "  user={\n",
            "    x=[363, 404],\n",
            "    n_id=[363],\n",
            "  },\n",
            "  item={\n",
            "    x=[31, 300],\n",
            "    n_id=[31],\n",
            "  },\n",
            "  (user, rates, item)={\n",
            "    edge_index=[2, 383],\n",
            "    edge_label=[512, 1],\n",
            "    edge_label_index=[2, 512],\n",
            "    e_id=[383],\n",
            "    input_id=[512],\n",
            "  },\n",
            "  (item, rev_rates, user)={\n",
            "    edge_index=[2, 2424],\n",
            "    e_id=[2424],\n",
            "  }\n",
            ")\n",
            "Step 2, number of edges in the current batch: 2754\n",
            "Step 2, number of nodes in the current batch: 385\n",
            "HeteroData(\n",
            "  user={\n",
            "    x=[354, 404],\n",
            "    n_id=[354],\n",
            "  },\n",
            "  item={\n",
            "    x=[31, 300],\n",
            "    n_id=[31],\n",
            "  },\n",
            "  (user, rates, item)={\n",
            "    edge_index=[2, 377],\n",
            "    edge_label=[512, 1],\n",
            "    edge_label_index=[2, 512],\n",
            "    e_id=[377],\n",
            "    input_id=[512],\n",
            "  },\n",
            "  (item, rev_rates, user)={\n",
            "    edge_index=[2, 2377],\n",
            "    e_id=[2377],\n",
            "  }\n",
            ")\n",
            "Step 3, number of edges in the current batch: 2717\n",
            "Step 3, number of nodes in the current batch: 381\n",
            "HeteroData(\n",
            "  user={\n",
            "    x=[351, 404],\n",
            "    n_id=[351],\n",
            "  },\n",
            "  item={\n",
            "    x=[30, 300],\n",
            "    n_id=[30],\n",
            "  },\n",
            "  (user, rates, item)={\n",
            "    edge_index=[2, 376],\n",
            "    edge_label=[512, 1],\n",
            "    edge_label_index=[2, 512],\n",
            "    e_id=[376],\n",
            "    input_id=[512],\n",
            "  },\n",
            "  (item, rev_rates, user)={\n",
            "    edge_index=[2, 2341],\n",
            "    e_id=[2341],\n",
            "  }\n",
            ")\n",
            "Step 4, number of edges in the current batch: 2736\n",
            "Step 4, number of nodes in the current batch: 381\n",
            "HeteroData(\n",
            "  user={\n",
            "    x=[352, 404],\n",
            "    n_id=[352],\n",
            "  },\n",
            "  item={\n",
            "    x=[29, 300],\n",
            "    n_id=[29],\n",
            "  },\n",
            "  (user, rates, item)={\n",
            "    edge_index=[2, 369],\n",
            "    edge_label=[512, 1],\n",
            "    edge_label_index=[2, 512],\n",
            "    e_id=[369],\n",
            "    input_id=[512],\n",
            "  },\n",
            "  (item, rev_rates, user)={\n",
            "    edge_index=[2, 2367],\n",
            "    e_id=[2367],\n",
            "  }\n",
            ")\n",
            "Step 5, number of edges in the current batch: 2745\n",
            "Step 5, number of nodes in the current batch: 384\n",
            "HeteroData(\n",
            "  user={\n",
            "    x=[353, 404],\n",
            "    n_id=[353],\n",
            "  },\n",
            "  item={\n",
            "    x=[31, 300],\n",
            "    n_id=[31],\n",
            "  },\n",
            "  (user, rates, item)={\n",
            "    edge_index=[2, 380],\n",
            "    edge_label=[512, 1],\n",
            "    edge_label_index=[2, 512],\n",
            "    e_id=[380],\n",
            "    input_id=[512],\n",
            "  },\n",
            "  (item, rev_rates, user)={\n",
            "    edge_index=[2, 2365],\n",
            "    e_id=[2365],\n",
            "  }\n",
            ")\n",
            "Step 6, number of edges in the current batch: 2123\n",
            "Step 6, number of nodes in the current batch: 289\n",
            "HeteroData(\n",
            "  user={\n",
            "    x=[262, 404],\n",
            "    n_id=[262],\n",
            "  },\n",
            "  item={\n",
            "    x=[27, 300],\n",
            "    n_id=[27],\n",
            "  },\n",
            "  (user, rates, item)={\n",
            "    edge_index=[2, 351],\n",
            "    edge_label=[126, 1],\n",
            "    edge_label_index=[2, 126],\n",
            "    e_id=[351],\n",
            "    input_id=[126],\n",
            "  },\n",
            "  (item, rev_rates, user)={\n",
            "    edge_index=[2, 1772],\n",
            "    e_id=[1772],\n",
            "  }\n",
            ")\n"
          ]
        }
      ]
    },
    {
      "cell_type": "code",
      "source": [
        "from torch_geometric.nn import SAGEConv, to_hetero\n",
        "import torch.nn.functional as F\n",
        "from torch.nn import Linear\n",
        "import numpy as np\n",
        "import torch_geometric.transforms as T\n",
        "if torch.cuda.is_available():\n",
        "    device = torch.device('cuda')\n",
        "else:\n",
        "    device = torch.device('cpu')\n",
        "\n",
        "# We have an unbalanced dataset with many labels for rating 3 and 4, and very\n",
        "# few for 0 and 1. Therefore we use a weighted MSE loss.\n",
        "use_weighted_loss=False\n",
        "if use_weighted_loss:\n",
        "    # print(train_data['user', 'item'].edge_label.shape)\n",
        "    weight = torch.bincount(train_data['user', 'item'].edge_label.view(-1))\n",
        "    weight = weight.max() / weight\n",
        "    print(weight)\n",
        "else:\n",
        "    weight = None\n",
        "\n",
        "\n",
        "def weighted_mse_loss(pred, target, weight=None):\n",
        "    weight = 1. if weight is None else weight[target].to(pred.dtype)\n",
        "    # print(weight)\n",
        "    return (weight * (pred - target.to(pred.dtype)).pow(2)).mean()\n",
        "\n",
        "\n",
        "class GNNEncoder(torch.nn.Module):\n",
        "    def __init__(self, hidden_channels, out_channels):\n",
        "        super().__init__()\n",
        "        self.conv1 = SAGEConv((-1, -1), hidden_channels)\n",
        "        self.conv2 = SAGEConv((-1, -1), out_channels)\n",
        "\n",
        "    def forward(self, x, edge_index):\n",
        "        x = self.conv1(x, edge_index).relu()\n",
        "        x = self.conv2(x, edge_index)\n",
        "        return x\n",
        "\n",
        "\n",
        "class EdgeDecoder(torch.nn.Module):\n",
        "    def __init__(self, hidden_channels):\n",
        "        super().__init__()\n",
        "        self.lin1 = Linear(2 * hidden_channels, hidden_channels)\n",
        "        self.lin2 = Linear(hidden_channels, 1)\n",
        "\n",
        "    def forward(self, z_dict, edge_label_index):\n",
        "        row, col = edge_label_index\n",
        "        z = torch.cat([z_dict['user'][row], z_dict['item'][col]], dim=-1)\n",
        "\n",
        "        z = self.lin1(z).relu()\n",
        "        z = self.lin2(z)\n",
        "        return z.view(-1)\n",
        "\n",
        "\n",
        "class Model(torch.nn.Module):\n",
        "    def __init__(self, hidden_channels):\n",
        "        super().__init__()\n",
        "        self.encoder = GNNEncoder(hidden_channels, hidden_channels)\n",
        "        self.encoder = to_hetero(self.encoder, data.metadata(), aggr='sum')\n",
        "        self.decoder = EdgeDecoder(hidden_channels)\n",
        "\n",
        "    def forward(self, x_dict, edge_index_dict, edge_label_index):\n",
        "        z_dict = self.encoder(x_dict, edge_index_dict)\n",
        "        return self.decoder(z_dict, edge_label_index)\n",
        "\n",
        "def train(loader):\n",
        "    model.train()\n",
        "    loss_list = []\n",
        "    for train_data in loader:\n",
        "        optimizer.zero_grad()\n",
        "        pred = model(train_data.x_dict, train_data.edge_index_dict,\n",
        "                    train_data['user', 'item'].edge_label_index)\n",
        "        target = train_data['user', 'item'].edge_label\n",
        "        loss = weighted_mse_loss(pred, target, weight)\n",
        "        loss.backward()\n",
        "        optimizer.step()\n",
        "        loss_list.append(loss.item())\n",
        "    return np.mean(loss_list)\n",
        "\n",
        "@torch.no_grad()\n",
        "def test(loader):\n",
        "    model.eval()\n",
        "    rmse_list = []\n",
        "    for data in loader:\n",
        "        pred = model(data.x_dict, data.edge_index_dict,\n",
        "                    data['user', 'item'].edge_label_index)\n",
        "        pred = pred.clamp(min=0, max=5)\n",
        "        target = data['user', 'item'].edge_label.float()\n",
        "        rmse = F.mse_loss(pred, target).sqrt()\n",
        "        rmse_list.append(rmse)\n",
        "    return np.mean(rmse_list)\n",
        "\n",
        "\n",
        "\n",
        "model = Model(hidden_channels=32).to(device)\n",
        "optimizer = torch.optim.Adam(model.parameters(), lr=0.01)\n",
        "\n",
        "loss_curve=[]\n",
        "Train_curve=[]\n",
        "Val_curve=[]\n",
        "Test_curve=[]\n",
        "for epoch in range(1, 21):\n",
        "    loss = train(train_loader)\n",
        "    train_rmse = test(train_loader)\n",
        "    val_rmse = test(val_loader)\n",
        "    test_rmse = test(test_loader)\n",
        "    loss_curve.append(loss)\n",
        "    Train_curve.append(train_rmse)\n",
        "    Val_curve.append(val_rmse)\n",
        "    Test_curve.append(test_rmse)\n",
        "    print(f'Epoch: {epoch:03d}, Loss: {loss:.4f}, Train: {train_rmse:.4f}, '\n",
        "          f'Val: {val_rmse:.4f}, Test: {test_rmse:.4f}')"
      ],
      "metadata": {
        "id": "vtI3wy8U8Et1",
        "colab": {
          "base_uri": "https://localhost:8080/"
        },
        "outputId": "e388051c-6daf-4b1c-ab8b-e223dc08c64b"
      },
      "execution_count": 192,
      "outputs": [
        {
          "output_type": "stream",
          "name": "stderr",
          "text": [
            "<ipython-input-192-f3c4633bb9e3>:90: UserWarning: Using a target size (torch.Size([512, 1])) that is different to the input size (torch.Size([512])). This will likely lead to incorrect results due to broadcasting. Please ensure they have the same size.\n",
            "  rmse = F.mse_loss(pred, target).sqrt()\n",
            "<ipython-input-192-f3c4633bb9e3>:90: UserWarning: Using a target size (torch.Size([126, 1])) that is different to the input size (torch.Size([126])). This will likely lead to incorrect results due to broadcasting. Please ensure they have the same size.\n",
            "  rmse = F.mse_loss(pred, target).sqrt()\n",
            "<ipython-input-192-f3c4633bb9e3>:90: UserWarning: Using a target size (torch.Size([158, 1])) that is different to the input size (torch.Size([158])). This will likely lead to incorrect results due to broadcasting. Please ensure they have the same size.\n",
            "  rmse = F.mse_loss(pred, target).sqrt()\n",
            "<ipython-input-192-f3c4633bb9e3>:90: UserWarning: Using a target size (torch.Size([316, 1])) that is different to the input size (torch.Size([316])). This will likely lead to incorrect results due to broadcasting. Please ensure they have the same size.\n",
            "  rmse = F.mse_loss(pred, target).sqrt()\n"
          ]
        },
        {
          "output_type": "stream",
          "name": "stdout",
          "text": [
            "Epoch: 001, Loss: 10.2248, Train: 1.0662, Val: 1.0620, Test: 1.0731\n",
            "Epoch: 002, Loss: 4.3516, Train: 1.6485, Val: 1.6643, Test: 1.6667\n",
            "Epoch: 003, Loss: 2.1480, Train: 1.1619, Val: 1.1361, Test: 1.1522\n",
            "Epoch: 004, Loss: 1.6713, Train: 1.1864, Val: 1.1844, Test: 1.1988\n",
            "Epoch: 005, Loss: 1.3321, Train: 1.0932, Val: 1.0704, Test: 1.0927\n",
            "Epoch: 006, Loss: 1.2465, Train: 1.0797, Val: 1.0774, Test: 1.0910\n",
            "Epoch: 007, Loss: 1.1271, Train: 1.0506, Val: 1.0331, Test: 1.0475\n",
            "Epoch: 008, Loss: 1.1205, Train: 1.0367, Val: 1.0317, Test: 1.0413\n",
            "Epoch: 009, Loss: 1.0750, Train: 1.0298, Val: 1.0172, Test: 1.0322\n",
            "Epoch: 010, Loss: 1.0741, Train: 1.0269, Val: 1.0169, Test: 1.0310\n",
            "Epoch: 011, Loss: 1.0633, Train: 1.0268, Val: 1.0177, Test: 1.0312\n",
            "Epoch: 012, Loss: 1.0589, Train: 1.0282, Val: 1.0162, Test: 1.0311\n",
            "Epoch: 013, Loss: 1.0625, Train: 1.0270, Val: 1.0194, Test: 1.0321\n",
            "Epoch: 014, Loss: 1.0546, Train: 1.0275, Val: 1.0160, Test: 1.0306\n",
            "Epoch: 015, Loss: 1.0594, Train: 1.0261, Val: 1.0171, Test: 1.0306\n",
            "Epoch: 016, Loss: 1.0556, Train: 1.0259, Val: 1.0162, Test: 1.0303\n",
            "Epoch: 017, Loss: 1.0557, Train: 1.0264, Val: 1.0158, Test: 1.0301\n",
            "Epoch: 018, Loss: 1.0569, Train: 1.0258, Val: 1.0175, Test: 1.0300\n",
            "Epoch: 019, Loss: 1.0548, Train: 1.0263, Val: 1.0157, Test: 1.0303\n",
            "Epoch: 020, Loss: 1.0567, Train: 1.0260, Val: 1.0157, Test: 1.0299\n"
          ]
        }
      ]
    },
    {
      "cell_type": "code",
      "source": [
        "#save loss,train,val,test to pd.csv\n",
        "result_df = pd.DataFrame({'loss':loss_curve,'train':Train_curve,'val':Val_curve,'test':Test_curve})\n",
        "result_df.to_csv('SAGE_amazon_512_3.csv', index=False)"
      ],
      "metadata": {
        "id": "3BHIe3qUjyy9"
      },
      "execution_count": 193,
      "outputs": []
    },
    {
      "cell_type": "code",
      "source": [
        "import matplotlib.pyplot as plt\n",
        "# Plotting accuracy vs. epochs for each learning rate and optimizer\n",
        "plt.figure(figsize=(10, 5))\n",
        "plt.subplot(1, 2, 1)\n",
        "plt.plot(range(1,21),loss_curve, label='Train Loss')\n",
        "plt.title('Training Loss over Epochs')\n",
        "plt.xlabel('Epochs')\n",
        "plt.ylabel('Loss')\n",
        "# plt.xticks(range(1,51))\n",
        "plt.legend()\n",
        "\n",
        "plt.subplot(1, 2, 2)\n",
        "plt.plot(range(1,21),Val_curve, label='Validation RMSE')\n",
        "plt.plot(range(1,21),Test_curve, label='Test RMSE')\n",
        "plt.title('Validation and Test RMSE over Epochs')\n",
        "plt.xlabel('Epochs')\n",
        "plt.ylabel('Metric')\n",
        "# plt.xticks(range(1,51))\n",
        "plt.legend()\n",
        "\n",
        "plt.tight_layout()\n",
        "plt.show()"
      ],
      "metadata": {
        "id": "_Vs-jUJgtb1d",
        "colab": {
          "base_uri": "https://localhost:8080/",
          "height": 507
        },
        "outputId": "0b1c3d8c-1208-4d1d-f274-248319754b19"
      },
      "execution_count": 194,
      "outputs": [
        {
          "output_type": "display_data",
          "data": {
            "text/plain": [
              "<Figure size 1000x500 with 2 Axes>"
            ],
            "image/png": "[encoded data removed]"
          },
          "metadata": {}
        }
      ]
    },
    {
      "cell_type": "code",
      "source": [
        "learning_rates = [1e-3, 1e-4, 1e-5, 1e-6]\n",
        "optimizers = [torch.optim.Adam, torch.optim.SGD, torch.optim.NAdam]  # Add more optimizers as needed\n",
        "optimizer_names = ['Adam', 'SGD', 'NAdam']  # Match optimizer list\n",
        "columns = ['Learning Rate', 'Epochs', 'Optimizer', 'Test RMSE']\n",
        "results_df = pd.DataFrame(columns=columns)"
      ],
      "metadata": {
        "id": "jkNQgZXQkk89"
      },
      "execution_count": 195,
      "outputs": []
    },
    {
      "cell_type": "code",
      "source": [
        "for lr in learning_rates:\n",
        "    for opt, opt_name in zip(optimizers, optimizer_names):\n",
        "        model = Model(hidden_channels=32).to(device)\n",
        "        optimizer = opt(model.parameters(), lr=lr)\n",
        "        loss_curve=[]\n",
        "        Train_curve=[]\n",
        "        Val_curve=[]\n",
        "        Test_curve=[]\n",
        "        for epoch in range(1, 21):\n",
        "          loss = train(train_loader)\n",
        "          train_rmse = test(train_loader)\n",
        "          val_rmse = test(val_loader)\n",
        "          test_rmse = test(test_loader)\n",
        "          loss_curve.append(loss)\n",
        "          Train_curve.append(train_rmse)\n",
        "          Val_curve.append(val_rmse)\n",
        "          Test_curve.append(test_rmse)\n",
        "        # final_test_rmse = np.min(Test_curve)\n",
        "        # Store the results in the DataFrame\n",
        "        results_df = results_df.append({'Learning Rate': lr,\n",
        "                                        'Epochs': 20,\n",
        "                                        'Optimizer': opt_name,\n",
        "                                        'Test RMSE': Test_curve},\n",
        "                                        ignore_index=True)\n"
      ],
      "metadata": {
        "id": "7F0Apgj9k1ON",
        "colab": {
          "base_uri": "https://localhost:8080/"
        },
        "outputId": "b5e4f83a-4550-46eb-d761-30d0a2869f9e"
      },
      "execution_count": 196,
      "outputs": [
        {
          "output_type": "stream",
          "name": "stderr",
          "text": [
            "<ipython-input-192-f3c4633bb9e3>:90: UserWarning: Using a target size (torch.Size([512, 1])) that is different to the input size (torch.Size([512])). This will likely lead to incorrect results due to broadcasting. Please ensure they have the same size.\n",
            "  rmse = F.mse_loss(pred, target).sqrt()\n",
            "<ipython-input-192-f3c4633bb9e3>:90: UserWarning: Using a target size (torch.Size([126, 1])) that is different to the input size (torch.Size([126])). This will likely lead to incorrect results due to broadcasting. Please ensure they have the same size.\n",
            "  rmse = F.mse_loss(pred, target).sqrt()\n",
            "<ipython-input-192-f3c4633bb9e3>:90: UserWarning: Using a target size (torch.Size([158, 1])) that is different to the input size (torch.Size([158])). This will likely lead to incorrect results due to broadcasting. Please ensure they have the same size.\n",
            "  rmse = F.mse_loss(pred, target).sqrt()\n",
            "<ipython-input-192-f3c4633bb9e3>:90: UserWarning: Using a target size (torch.Size([316, 1])) that is different to the input size (torch.Size([316])). This will likely lead to incorrect results due to broadcasting. Please ensure they have the same size.\n",
            "  rmse = F.mse_loss(pred, target).sqrt()\n",
            "<ipython-input-196-2671e4040d9b>:20: FutureWarning: The frame.append method is deprecated and will be removed from pandas in a future version. Use pandas.concat instead.\n",
            "  results_df = results_df.append({'Learning Rate': lr,\n",
            "<ipython-input-192-f3c4633bb9e3>:90: UserWarning: Using a target size (torch.Size([512, 1])) that is different to the input size (torch.Size([512])). This will likely lead to incorrect results due to broadcasting. Please ensure they have the same size.\n",
            "  rmse = F.mse_loss(pred, target).sqrt()\n",
            "<ipython-input-192-f3c4633bb9e3>:90: UserWarning: Using a target size (torch.Size([126, 1])) that is different to the input size (torch.Size([126])). This will likely lead to incorrect results due to broadcasting. Please ensure they have the same size.\n",
            "  rmse = F.mse_loss(pred, target).sqrt()\n",
            "<ipython-input-192-f3c4633bb9e3>:90: UserWarning: Using a target size (torch.Size([158, 1])) that is different to the input size (torch.Size([158])). This will likely lead to incorrect results due to broadcasting. Please ensure they have the same size.\n",
            "  rmse = F.mse_loss(pred, target).sqrt()\n",
            "<ipython-input-192-f3c4633bb9e3>:90: UserWarning: Using a target size (torch.Size([316, 1])) that is different to the input size (torch.Size([316])). This will likely lead to incorrect results due to broadcasting. Please ensure they have the same size.\n",
            "  rmse = F.mse_loss(pred, target).sqrt()\n",
            "<ipython-input-196-2671e4040d9b>:20: FutureWarning: The frame.append method is deprecated and will be removed from pandas in a future version. Use pandas.concat instead.\n",
            "  results_df = results_df.append({'Learning Rate': lr,\n",
            "<ipython-input-192-f3c4633bb9e3>:90: UserWarning: Using a target size (torch.Size([512, 1])) that is different to the input size (torch.Size([512])). This will likely lead to incorrect results due to broadcasting. Please ensure they have the same size.\n",
            "  rmse = F.mse_loss(pred, target).sqrt()\n",
            "<ipython-input-192-f3c4633bb9e3>:90: UserWarning: Using a target size (torch.Size([126, 1])) that is different to the input size (torch.Size([126])). This will likely lead to incorrect results due to broadcasting. Please ensure they have the same size.\n",
            "  rmse = F.mse_loss(pred, target).sqrt()\n",
            "<ipython-input-192-f3c4633bb9e3>:90: UserWarning: Using a target size (torch.Size([158, 1])) that is different to the input size (torch.Size([158])). This will likely lead to incorrect results due to broadcasting. Please ensure they have the same size.\n",
            "  rmse = F.mse_loss(pred, target).sqrt()\n",
            "<ipython-input-192-f3c4633bb9e3>:90: UserWarning: Using a target size (torch.Size([316, 1])) that is different to the input size (torch.Size([316])). This will likely lead to incorrect results due to broadcasting. Please ensure they have the same size.\n",
            "  rmse = F.mse_loss(pred, target).sqrt()\n",
            "<ipython-input-196-2671e4040d9b>:20: FutureWarning: The frame.append method is deprecated and will be removed from pandas in a future version. Use pandas.concat instead.\n",
            "  results_df = results_df.append({'Learning Rate': lr,\n",
            "<ipython-input-192-f3c4633bb9e3>:90: UserWarning: Using a target size (torch.Size([512, 1])) that is different to the input size (torch.Size([512])). This will likely lead to incorrect results due to broadcasting. Please ensure they have the same size.\n",
            "  rmse = F.mse_loss(pred, target).sqrt()\n",
            "<ipython-input-192-f3c4633bb9e3>:90: UserWarning: Using a target size (torch.Size([126, 1])) that is different to the input size (torch.Size([126])). This will likely lead to incorrect results due to broadcasting. Please ensure they have the same size.\n",
            "  rmse = F.mse_loss(pred, target).sqrt()\n",
            "<ipython-input-192-f3c4633bb9e3>:90: UserWarning: Using a target size (torch.Size([158, 1])) that is different to the input size (torch.Size([158])). This will likely lead to incorrect results due to broadcasting. Please ensure they have the same size.\n",
            "  rmse = F.mse_loss(pred, target).sqrt()\n",
            "<ipython-input-192-f3c4633bb9e3>:90: UserWarning: Using a target size (torch.Size([316, 1])) that is different to the input size (torch.Size([316])). This will likely lead to incorrect results due to broadcasting. Please ensure they have the same size.\n",
            "  rmse = F.mse_loss(pred, target).sqrt()\n",
            "<ipython-input-196-2671e4040d9b>:20: FutureWarning: The frame.append method is deprecated and will be removed from pandas in a future version. Use pandas.concat instead.\n",
            "  results_df = results_df.append({'Learning Rate': lr,\n",
            "<ipython-input-192-f3c4633bb9e3>:90: UserWarning: Using a target size (torch.Size([512, 1])) that is different to the input size (torch.Size([512])). This will likely lead to incorrect results due to broadcasting. Please ensure they have the same size.\n",
            "  rmse = F.mse_loss(pred, target).sqrt()\n",
            "<ipython-input-192-f3c4633bb9e3>:90: UserWarning: Using a target size (torch.Size([126, 1])) that is different to the input size (torch.Size([126])). This will likely lead to incorrect results due to broadcasting. Please ensure they have the same size.\n",
            "  rmse = F.mse_loss(pred, target).sqrt()\n",
            "<ipython-input-192-f3c4633bb9e3>:90: UserWarning: Using a target size (torch.Size([158, 1])) that is different to the input size (torch.Size([158])). This will likely lead to incorrect results due to broadcasting. Please ensure they have the same size.\n",
            "  rmse = F.mse_loss(pred, target).sqrt()\n",
            "<ipython-input-192-f3c4633bb9e3>:90: UserWarning: Using a target size (torch.Size([316, 1])) that is different to the input size (torch.Size([316])). This will likely lead to incorrect results due to broadcasting. Please ensure they have the same size.\n",
            "  rmse = F.mse_loss(pred, target).sqrt()\n",
            "<ipython-input-196-2671e4040d9b>:20: FutureWarning: The frame.append method is deprecated and will be removed from pandas in a future version. Use pandas.concat instead.\n",
            "  results_df = results_df.append({'Learning Rate': lr,\n",
            "<ipython-input-192-f3c4633bb9e3>:90: UserWarning: Using a target size (torch.Size([512, 1])) that is different to the input size (torch.Size([512])). This will likely lead to incorrect results due to broadcasting. Please ensure they have the same size.\n",
            "  rmse = F.mse_loss(pred, target).sqrt()\n",
            "<ipython-input-192-f3c4633bb9e3>:90: UserWarning: Using a target size (torch.Size([126, 1])) that is different to the input size (torch.Size([126])). This will likely lead to incorrect results due to broadcasting. Please ensure they have the same size.\n",
            "  rmse = F.mse_loss(pred, target).sqrt()\n",
            "<ipython-input-192-f3c4633bb9e3>:90: UserWarning: Using a target size (torch.Size([158, 1])) that is different to the input size (torch.Size([158])). This will likely lead to incorrect results due to broadcasting. Please ensure they have the same size.\n",
            "  rmse = F.mse_loss(pred, target).sqrt()\n",
            "<ipython-input-192-f3c4633bb9e3>:90: UserWarning: Using a target size (torch.Size([316, 1])) that is different to the input size (torch.Size([316])). This will likely lead to incorrect results due to broadcasting. Please ensure they have the same size.\n",
            "  rmse = F.mse_loss(pred, target).sqrt()\n",
            "<ipython-input-196-2671e4040d9b>:20: FutureWarning: The frame.append method is deprecated and will be removed from pandas in a future version. Use pandas.concat instead.\n",
            "  results_df = results_df.append({'Learning Rate': lr,\n",
            "<ipython-input-192-f3c4633bb9e3>:90: UserWarning: Using a target size (torch.Size([512, 1])) that is different to the input size (torch.Size([512])). This will likely lead to incorrect results due to broadcasting. Please ensure they have the same size.\n",
            "  rmse = F.mse_loss(pred, target).sqrt()\n",
            "<ipython-input-192-f3c4633bb9e3>:90: UserWarning: Using a target size (torch.Size([126, 1])) that is different to the input size (torch.Size([126])). This will likely lead to incorrect results due to broadcasting. Please ensure they have the same size.\n",
            "  rmse = F.mse_loss(pred, target).sqrt()\n",
            "<ipython-input-192-f3c4633bb9e3>:90: UserWarning: Using a target size (torch.Size([158, 1])) that is different to the input size (torch.Size([158])). This will likely lead to incorrect results due to broadcasting. Please ensure they have the same size.\n",
            "  rmse = F.mse_loss(pred, target).sqrt()\n",
            "<ipython-input-192-f3c4633bb9e3>:90: UserWarning: Using a target size (torch.Size([316, 1])) that is different to the input size (torch.Size([316])). This will likely lead to incorrect results due to broadcasting. Please ensure they have the same size.\n",
            "  rmse = F.mse_loss(pred, target).sqrt()\n",
            "<ipython-input-196-2671e4040d9b>:20: FutureWarning: The frame.append method is deprecated and will be removed from pandas in a future version. Use pandas.concat instead.\n",
            "  results_df = results_df.append({'Learning Rate': lr,\n",
            "<ipython-input-192-f3c4633bb9e3>:90: UserWarning: Using a target size (torch.Size([512, 1])) that is different to the input size (torch.Size([512])). This will likely lead to incorrect results due to broadcasting. Please ensure they have the same size.\n",
            "  rmse = F.mse_loss(pred, target).sqrt()\n",
            "<ipython-input-192-f3c4633bb9e3>:90: UserWarning: Using a target size (torch.Size([126, 1])) that is different to the input size (torch.Size([126])). This will likely lead to incorrect results due to broadcasting. Please ensure they have the same size.\n",
            "  rmse = F.mse_loss(pred, target).sqrt()\n",
            "<ipython-input-192-f3c4633bb9e3>:90: UserWarning: Using a target size (torch.Size([158, 1])) that is different to the input size (torch.Size([158])). This will likely lead to incorrect results due to broadcasting. Please ensure they have the same size.\n",
            "  rmse = F.mse_loss(pred, target).sqrt()\n",
            "<ipython-input-192-f3c4633bb9e3>:90: UserWarning: Using a target size (torch.Size([316, 1])) that is different to the input size (torch.Size([316])). This will likely lead to incorrect results due to broadcasting. Please ensure they have the same size.\n",
            "  rmse = F.mse_loss(pred, target).sqrt()\n",
            "<ipython-input-196-2671e4040d9b>:20: FutureWarning: The frame.append method is deprecated and will be removed from pandas in a future version. Use pandas.concat instead.\n",
            "  results_df = results_df.append({'Learning Rate': lr,\n",
            "<ipython-input-192-f3c4633bb9e3>:90: UserWarning: Using a target size (torch.Size([512, 1])) that is different to the input size (torch.Size([512])). This will likely lead to incorrect results due to broadcasting. Please ensure they have the same size.\n",
            "  rmse = F.mse_loss(pred, target).sqrt()\n",
            "<ipython-input-192-f3c4633bb9e3>:90: UserWarning: Using a target size (torch.Size([126, 1])) that is different to the input size (torch.Size([126])). This will likely lead to incorrect results due to broadcasting. Please ensure they have the same size.\n",
            "  rmse = F.mse_loss(pred, target).sqrt()\n",
            "<ipython-input-192-f3c4633bb9e3>:90: UserWarning: Using a target size (torch.Size([158, 1])) that is different to the input size (torch.Size([158])). This will likely lead to incorrect results due to broadcasting. Please ensure they have the same size.\n",
            "  rmse = F.mse_loss(pred, target).sqrt()\n",
            "<ipython-input-192-f3c4633bb9e3>:90: UserWarning: Using a target size (torch.Size([316, 1])) that is different to the input size (torch.Size([316])). This will likely lead to incorrect results due to broadcasting. Please ensure they have the same size.\n",
            "  rmse = F.mse_loss(pred, target).sqrt()\n",
            "<ipython-input-196-2671e4040d9b>:20: FutureWarning: The frame.append method is deprecated and will be removed from pandas in a future version. Use pandas.concat instead.\n",
            "  results_df = results_df.append({'Learning Rate': lr,\n",
            "<ipython-input-192-f3c4633bb9e3>:90: UserWarning: Using a target size (torch.Size([512, 1])) that is different to the input size (torch.Size([512])). This will likely lead to incorrect results due to broadcasting. Please ensure they have the same size.\n",
            "  rmse = F.mse_loss(pred, target).sqrt()\n",
            "<ipython-input-192-f3c4633bb9e3>:90: UserWarning: Using a target size (torch.Size([126, 1])) that is different to the input size (torch.Size([126])). This will likely lead to incorrect results due to broadcasting. Please ensure they have the same size.\n",
            "  rmse = F.mse_loss(pred, target).sqrt()\n",
            "<ipython-input-192-f3c4633bb9e3>:90: UserWarning: Using a target size (torch.Size([158, 1])) that is different to the input size (torch.Size([158])). This will likely lead to incorrect results due to broadcasting. Please ensure they have the same size.\n",
            "  rmse = F.mse_loss(pred, target).sqrt()\n",
            "<ipython-input-192-f3c4633bb9e3>:90: UserWarning: Using a target size (torch.Size([316, 1])) that is different to the input size (torch.Size([316])). This will likely lead to incorrect results due to broadcasting. Please ensure they have the same size.\n",
            "  rmse = F.mse_loss(pred, target).sqrt()\n",
            "<ipython-input-196-2671e4040d9b>:20: FutureWarning: The frame.append method is deprecated and will be removed from pandas in a future version. Use pandas.concat instead.\n",
            "  results_df = results_df.append({'Learning Rate': lr,\n",
            "<ipython-input-192-f3c4633bb9e3>:90: UserWarning: Using a target size (torch.Size([512, 1])) that is different to the input size (torch.Size([512])). This will likely lead to incorrect results due to broadcasting. Please ensure they have the same size.\n",
            "  rmse = F.mse_loss(pred, target).sqrt()\n",
            "<ipython-input-192-f3c4633bb9e3>:90: UserWarning: Using a target size (torch.Size([126, 1])) that is different to the input size (torch.Size([126])). This will likely lead to incorrect results due to broadcasting. Please ensure they have the same size.\n",
            "  rmse = F.mse_loss(pred, target).sqrt()\n",
            "<ipython-input-192-f3c4633bb9e3>:90: UserWarning: Using a target size (torch.Size([158, 1])) that is different to the input size (torch.Size([158])). This will likely lead to incorrect results due to broadcasting. Please ensure they have the same size.\n",
            "  rmse = F.mse_loss(pred, target).sqrt()\n",
            "<ipython-input-192-f3c4633bb9e3>:90: UserWarning: Using a target size (torch.Size([316, 1])) that is different to the input size (torch.Size([316])). This will likely lead to incorrect results due to broadcasting. Please ensure they have the same size.\n",
            "  rmse = F.mse_loss(pred, target).sqrt()\n",
            "<ipython-input-196-2671e4040d9b>:20: FutureWarning: The frame.append method is deprecated and will be removed from pandas in a future version. Use pandas.concat instead.\n",
            "  results_df = results_df.append({'Learning Rate': lr,\n",
            "<ipython-input-192-f3c4633bb9e3>:90: UserWarning: Using a target size (torch.Size([512, 1])) that is different to the input size (torch.Size([512])). This will likely lead to incorrect results due to broadcasting. Please ensure they have the same size.\n",
            "  rmse = F.mse_loss(pred, target).sqrt()\n",
            "<ipython-input-192-f3c4633bb9e3>:90: UserWarning: Using a target size (torch.Size([126, 1])) that is different to the input size (torch.Size([126])). This will likely lead to incorrect results due to broadcasting. Please ensure they have the same size.\n",
            "  rmse = F.mse_loss(pred, target).sqrt()\n",
            "<ipython-input-192-f3c4633bb9e3>:90: UserWarning: Using a target size (torch.Size([158, 1])) that is different to the input size (torch.Size([158])). This will likely lead to incorrect results due to broadcasting. Please ensure they have the same size.\n",
            "  rmse = F.mse_loss(pred, target).sqrt()\n",
            "<ipython-input-192-f3c4633bb9e3>:90: UserWarning: Using a target size (torch.Size([316, 1])) that is different to the input size (torch.Size([316])). This will likely lead to incorrect results due to broadcasting. Please ensure they have the same size.\n",
            "  rmse = F.mse_loss(pred, target).sqrt()\n",
            "<ipython-input-196-2671e4040d9b>:20: FutureWarning: The frame.append method is deprecated and will be removed from pandas in a future version. Use pandas.concat instead.\n",
            "  results_df = results_df.append({'Learning Rate': lr,\n"
          ]
        }
      ]
    },
    {
      "cell_type": "code",
      "source": [
        "# Plotting accuracy vs. epochs for each learning rate and optimizer\n",
        "for lr in learning_rates:\n",
        "    for opt_name in optimizer_names:\n",
        "        subset_df = results_df[(results_df['Learning Rate'] == lr) & (results_df['Optimizer'] == opt_name)]\n",
        "        plt.plot(range(1,21), subset_df['Test RMSE'].tolist()[0], label=f'{opt_name}, LR={lr}')\n",
        "\n",
        "plt.xlabel('Epochs')\n",
        "plt.ylabel('Final Test RMSE')\n",
        "plt.title('Amazon SAGE')\n",
        "plt.legend()\n",
        "plt.savefig('AMAZON_SAGE.png')\n",
        "plt.show()"
      ],
      "metadata": {
        "id": "_iP9YdE9k3Is",
        "colab": {
          "base_uri": "https://localhost:8080/",
          "height": 472
        },
        "outputId": "fe4ed7dc-3ea3-4343-d2e6-ebb2d73553f8"
      },
      "execution_count": 197,
      "outputs": [
        {
          "output_type": "display_data",
          "data": {
            "text/plain": [
              "<Figure size 640x480 with 1 Axes>"
            ],
            "image/png": "[encoded data removed]"
          },
          "metadata": {}
        }
      ]
    },
    {
      "cell_type": "code",
      "source": [
        "assert train_data[\"user\", \"rates\", \"item\"].edge_label.min() == 1\n",
        "assert train_data[\"user\", \"rates\", \"item\"].edge_label.max() == 5\n"
      ],
      "metadata": {
        "id": "B7-1mP_OA6dX"
      },
      "execution_count": 198,
      "outputs": []
    },
    {
      "cell_type": "markdown",
      "source": [
        "Baseline GAT"
      ],
      "metadata": {
        "id": "aQeJS7RXzFEf"
      }
    },
    {
      "cell_type": "code",
      "source": [
        "from torch_geometric.nn import GATConv, Linear, to_hetero\n",
        "\n",
        "class GAT(torch.nn.Module):\n",
        "    def __init__(self, hidden_channels, out_channels):\n",
        "        super().__init__()\n",
        "        self.conv1 = GATConv((-1, -1), hidden_channels, add_self_loops=False)\n",
        "        self.lin1 = Linear(-1, hidden_channels)\n",
        "        self.conv2 = GATConv((-1, -1), out_channels, add_self_loops=False)\n",
        "        self.lin2 = Linear(-1, out_channels)\n",
        "\n",
        "    def forward(self, x, edge_index):\n",
        "        x = self.conv1(x, edge_index) + self.lin1(x)\n",
        "        x = x.relu()\n",
        "        x = self.conv2(x, edge_index) + self.lin2(x)\n",
        "        return x\n",
        "\n",
        "class GATModel(torch.nn.Module):\n",
        "    def __init__(self, hidden_channels):\n",
        "        super().__init__()\n",
        "        self.encoder = GAT(hidden_channels, hidden_channels)\n",
        "        self.encoder = to_hetero(self.encoder, data.metadata(), aggr='sum')\n",
        "        self.decoder = EdgeDecoder(hidden_channels)\n",
        "\n",
        "    def forward(self, x_dict, edge_index_dict, edge_label_index):\n",
        "        z_dict = self.encoder(x_dict, edge_index_dict)\n",
        "        return self.decoder(z_dict, edge_label_index)\n",
        "\n"
      ],
      "metadata": {
        "id": "tPa3YPRm2Xah"
      },
      "execution_count": 199,
      "outputs": []
    },
    {
      "cell_type": "code",
      "source": [
        "model = GATModel(hidden_channels=32)\n",
        "optimizer = torch.optim.Adam(model.parameters(), lr=0.01)\n",
        "print('current model = GATModel')\n",
        "\n",
        "loss_curve=[]\n",
        "Train_curve=[]\n",
        "Val_curve=[]\n",
        "Test_curve=[]\n",
        "for epoch in range(1, 21):#300\n",
        "    loss = train(train_loader)\n",
        "    train_rmse = test(train_loader)\n",
        "    val_rmse = test(val_loader)\n",
        "    test_rmse = test(test_loader)\n",
        "    loss_curve.append(loss)\n",
        "    Train_curve.append(train_rmse)\n",
        "    Val_curve.append(val_rmse)\n",
        "    Test_curve.append(test_rmse)\n",
        "    print(f'Epoch: {epoch:03d}, Loss: {loss:.4f}, Train: {train_rmse:.4f}, '\n",
        "          f'Val: {val_rmse:.4f}, Test: {test_rmse:.4f}')"
      ],
      "metadata": {
        "id": "TiBk-24O5NOx",
        "colab": {
          "base_uri": "https://localhost:8080/"
        },
        "outputId": "e8a2f603-9f46-4f56-be8b-509316327071"
      },
      "execution_count": 200,
      "outputs": [
        {
          "output_type": "stream",
          "name": "stdout",
          "text": [
            "current model = GATModel\n",
            "Epoch: 001, Loss: 10.5581, Train: 1.1868, Val: 1.1611, Test: 1.1806\n"
          ]
        },
        {
          "output_type": "stream",
          "name": "stderr",
          "text": [
            "<ipython-input-192-f3c4633bb9e3>:90: UserWarning: Using a target size (torch.Size([512, 1])) that is different to the input size (torch.Size([512])). This will likely lead to incorrect results due to broadcasting. Please ensure they have the same size.\n",
            "  rmse = F.mse_loss(pred, target).sqrt()\n",
            "<ipython-input-192-f3c4633bb9e3>:90: UserWarning: Using a target size (torch.Size([126, 1])) that is different to the input size (torch.Size([126])). This will likely lead to incorrect results due to broadcasting. Please ensure they have the same size.\n",
            "  rmse = F.mse_loss(pred, target).sqrt()\n",
            "<ipython-input-192-f3c4633bb9e3>:90: UserWarning: Using a target size (torch.Size([158, 1])) that is different to the input size (torch.Size([158])). This will likely lead to incorrect results due to broadcasting. Please ensure they have the same size.\n",
            "  rmse = F.mse_loss(pred, target).sqrt()\n",
            "<ipython-input-192-f3c4633bb9e3>:90: UserWarning: Using a target size (torch.Size([316, 1])) that is different to the input size (torch.Size([316])). This will likely lead to incorrect results due to broadcasting. Please ensure they have the same size.\n",
            "  rmse = F.mse_loss(pred, target).sqrt()\n"
          ]
        },
        {
          "output_type": "stream",
          "name": "stdout",
          "text": [
            "Epoch: 002, Loss: 2.5753, Train: 1.2027, Val: 1.2017, Test: 1.2082\n",
            "Epoch: 003, Loss: 1.5868, Train: 1.0291, Val: 1.0180, Test: 1.0327\n",
            "Epoch: 004, Loss: 1.3928, Train: 1.0308, Val: 1.0203, Test: 1.0343\n",
            "Epoch: 005, Loss: 1.1981, Train: 1.0338, Val: 1.0259, Test: 1.0384\n",
            "Epoch: 006, Loss: 1.1312, Train: 1.0349, Val: 1.0203, Test: 1.0360\n",
            "Epoch: 007, Loss: 1.1023, Train: 1.0398, Val: 1.0355, Test: 1.0442\n",
            "Epoch: 008, Loss: 1.0728, Train: 1.0411, Val: 1.0247, Test: 1.0401\n",
            "Epoch: 009, Loss: 1.0793, Train: 1.0324, Val: 1.0269, Test: 1.0367\n",
            "Epoch: 010, Loss: 1.0575, Train: 1.0283, Val: 1.0165, Test: 1.0308\n",
            "Epoch: 011, Loss: 1.0607, Train: 1.0260, Val: 1.0163, Test: 1.0302\n",
            "Epoch: 012, Loss: 1.0566, Train: 1.0259, Val: 1.0172, Test: 1.0304\n",
            "Epoch: 013, Loss: 1.0549, Train: 1.0269, Val: 1.0157, Test: 1.0301\n",
            "Epoch: 014, Loss: 1.0583, Train: 1.0257, Val: 1.0159, Test: 1.0300\n",
            "Epoch: 015, Loss: 1.0555, Train: 1.0259, Val: 1.0167, Test: 1.0304\n",
            "Epoch: 016, Loss: 1.0547, Train: 1.0271, Val: 1.0157, Test: 1.0302\n",
            "Epoch: 017, Loss: 1.0591, Train: 1.0258, Val: 1.0159, Test: 1.0299\n",
            "Epoch: 018, Loss: 1.0567, Train: 1.0258, Val: 1.0164, Test: 1.0300\n",
            "Epoch: 019, Loss: 1.0542, Train: 1.0258, Val: 1.0156, Test: 1.0299\n",
            "Epoch: 020, Loss: 1.0552, Train: 1.0260, Val: 1.0156, Test: 1.0299\n"
          ]
        }
      ]
    },
    {
      "cell_type": "code",
      "source": [
        "print(data)"
      ],
      "metadata": {
        "id": "YnNAwTU7tRPl",
        "colab": {
          "base_uri": "https://localhost:8080/"
        },
        "outputId": "04c5ec6c-96cd-49a5-cab6-e26fff8a88f8"
      },
      "execution_count": 201,
      "outputs": [
        {
          "output_type": "stream",
          "name": "stdout",
          "text": [
            "HeteroData(\n",
            "  user={\n",
            "    x=[262, 404],\n",
            "    n_id=[262],\n",
            "  },\n",
            "  item={\n",
            "    x=[27, 300],\n",
            "    n_id=[27],\n",
            "  },\n",
            "  (user, rates, item)={\n",
            "    edge_index=[2, 351],\n",
            "    edge_label=[126, 1],\n",
            "    edge_label_index=[2, 126],\n",
            "    e_id=[351],\n",
            "    input_id=[126],\n",
            "  },\n",
            "  (item, rev_rates, user)={\n",
            "    edge_index=[2, 1772],\n",
            "    e_id=[1772],\n",
            "  }\n",
            ")\n"
          ]
        }
      ]
    },
    {
      "cell_type": "code",
      "source": [
        "!pip install captum"
      ],
      "metadata": {
        "id": "KsH9yUC0069X",
        "colab": {
          "base_uri": "https://localhost:8080/"
        },
        "outputId": "2998d2ec-dbdd-49a4-dae3-d7a1bed58cb2"
      },
      "execution_count": 202,
      "outputs": [
        {
          "output_type": "stream",
          "name": "stdout",
          "text": [
            "Requirement already satisfied: captum in /usr/local/lib/python3.10/dist-packages (0.7.0)\n",
            "Requirement already satisfied: matplotlib in /usr/local/lib/python3.10/dist-packages (from captum) (3.7.1)\n",
            "Requirement already satisfied: numpy in /usr/local/lib/python3.10/dist-packages (from captum) (1.23.5)\n",
            "Requirement already satisfied: torch>=1.6 in /usr/local/lib/python3.10/dist-packages (from captum) (2.1.0+cu121)\n",
            "Requirement already satisfied: tqdm in /usr/local/lib/python3.10/dist-packages (from captum) (4.66.1)\n",
            "Requirement already satisfied: filelock in /usr/local/lib/python3.10/dist-packages (from torch>=1.6->captum) (3.13.1)\n",
            "Requirement already satisfied: typing-extensions in /usr/local/lib/python3.10/dist-packages (from torch>=1.6->captum) (4.5.0)\n",
            "Requirement already satisfied: sympy in /usr/local/lib/python3.10/dist-packages (from torch>=1.6->captum) (1.12)\n",
            "Requirement already satisfied: networkx in /usr/local/lib/python3.10/dist-packages (from torch>=1.6->captum) (3.2.1)\n",
            "Requirement already satisfied: jinja2 in /usr/local/lib/python3.10/dist-packages (from torch>=1.6->captum) (3.1.2)\n",
            "Requirement already satisfied: fsspec in /usr/local/lib/python3.10/dist-packages (from torch>=1.6->captum) (2023.6.0)\n",
            "Requirement already satisfied: triton==2.1.0 in /usr/local/lib/python3.10/dist-packages (from torch>=1.6->captum) (2.1.0)\n",
            "Requirement already satisfied: contourpy>=1.0.1 in /usr/local/lib/python3.10/dist-packages (from matplotlib->captum) (1.2.0)\n",
            "Requirement already satisfied: cycler>=0.10 in /usr/local/lib/python3.10/dist-packages (from matplotlib->captum) (0.12.1)\n",
            "Requirement already satisfied: fonttools>=4.22.0 in /usr/local/lib/python3.10/dist-packages (from matplotlib->captum) (4.46.0)\n",
            "Requirement already satisfied: kiwisolver>=1.0.1 in /usr/local/lib/python3.10/dist-packages (from matplotlib->captum) (1.4.5)\n",
            "Requirement already satisfied: packaging>=20.0 in /usr/local/lib/python3.10/dist-packages (from matplotlib->captum) (23.2)\n",
            "Requirement already satisfied: pillow>=6.2.0 in /usr/local/lib/python3.10/dist-packages (from matplotlib->captum) (9.4.0)\n",
            "Requirement already satisfied: pyparsing>=2.3.1 in /usr/local/lib/python3.10/dist-packages (from matplotlib->captum) (3.1.1)\n",
            "Requirement already satisfied: python-dateutil>=2.7 in /usr/local/lib/python3.10/dist-packages (from matplotlib->captum) (2.8.2)\n",
            "Requirement already satisfied: six>=1.5 in /usr/local/lib/python3.10/dist-packages (from python-dateutil>=2.7->matplotlib->captum) (1.16.0)\n",
            "Requirement already satisfied: MarkupSafe>=2.0 in /usr/local/lib/python3.10/dist-packages (from jinja2->torch>=1.6->captum) (2.1.3)\n",
            "Requirement already satisfied: mpmath>=0.19 in /usr/local/lib/python3.10/dist-packages (from sympy->torch>=1.6->captum) (1.3.0)\n"
          ]
        }
      ]
    },
    {
      "cell_type": "code",
      "source": [
        "import captum\n",
        "from torch_geometric.explain import CaptumExplainer, Explainer\n",
        "explainer = Explainer(\n",
        "    model=model,\n",
        "    algorithm=CaptumExplainer('Saliency'),\n",
        "    explanation_type='model', # or phenomenon\n",
        "    node_mask_type='attributes',\n",
        "    edge_mask_type='object',\n",
        "    model_config=dict(\n",
        "        mode='regression',\n",
        "        task_level='node',\n",
        "        return_type='raw',\n",
        "    ),)\n",
        "\n",
        "node_index = 10\n",
        "explanation = explainer(x=train_data.x_dict, edge_index=train_data.edge_index_dict, target=train_data['user', 'item'].edge_label, edge_label_index=train_data['user', 'item'].edge_label_index)\n",
        "print(f'Generated explanations in {explanation.available_explanations}')\n",
        "\n",
        "path = 'feature_importance_amazon.png'\n",
        "explanation.visualize_feature_importance(path, top_k=20)\n",
        "print(f\"Feature importance plot has been saved to '{path}'\")\n",
        "\n",
        "# path = 'subgraph.pdf'\n",
        "# explanation.visualize_graph(path)\n",
        "# print(f\"Subgraph visualization plot has been saved to '{path}'\")\n"
      ],
      "metadata": {
        "id": "SpyzfuT9zlwK",
        "colab": {
          "base_uri": "https://localhost:8080/"
        },
        "outputId": "22050fb5-2e9e-4229-e31e-5cd52c3bf7eb"
      },
      "execution_count": 203,
      "outputs": [
        {
          "output_type": "stream",
          "name": "stderr",
          "text": [
            "/usr/local/lib/python3.10/dist-packages/torch_geometric/explain/explainer.py:192: UserWarning: The 'target' should not be provided for the explanation type 'model'\n",
            "  warnings.warn(\n",
            "/usr/local/lib/python3.10/dist-packages/captum/_utils/gradient.py:57: UserWarning: Input Tensor 0 did not already require gradients, required_grads has been set automatically.\n",
            "  warnings.warn(\n",
            "/usr/local/lib/python3.10/dist-packages/captum/_utils/gradient.py:57: UserWarning: Input Tensor 1 did not already require gradients, required_grads has been set automatically.\n",
            "  warnings.warn(\n"
          ]
        },
        {
          "output_type": "stream",
          "name": "stdout",
          "text": [
            "Generated explanations in ['edge_mask', 'node_mask']\n",
            "Feature importance plot has been saved to 'feature_importance_amazon.png'\n"
          ]
        }
      ]
    },
    {
      "cell_type": "code",
      "source": [
        "print(explanation)"
      ],
      "metadata": {
        "id": "fmkGXgFU1Nvp",
        "colab": {
          "base_uri": "https://localhost:8080/"
        },
        "outputId": "e47f41fc-a279-4f88-ca0f-d098904984ac"
      },
      "execution_count": 204,
      "outputs": [
        {
          "output_type": "stream",
          "name": "stdout",
          "text": [
            "HeteroExplanation(\n",
            "  prediction=[2686],\n",
            "  target=[2686],\n",
            "  edge_label_index=[2, 2686],\n",
            "  user={\n",
            "    node_mask=[404, 404],\n",
            "    x=[404, 404],\n",
            "  },\n",
            "  item={\n",
            "    node_mask=[31, 300],\n",
            "    x=[31, 300],\n",
            "  },\n",
            "  (user, rates, item)={\n",
            "    edge_mask=[2686],\n",
            "    edge_index=[2, 2686],\n",
            "  },\n",
            "  (item, rev_rates, user)={\n",
            "    edge_mask=[2686],\n",
            "    edge_index=[2, 2686],\n",
            "  }\n",
            ")\n"
          ]
        }
      ]
    },
    {
      "cell_type": "code",
      "source": [
        "matrix = np.matrix(explanation['user']['node_mask'])\n",
        "min_vals = matrix.min(axis=0)\n",
        "max_vals = matrix.max(axis=0)\n",
        "normalized_matrix = (matrix - min_vals) / (max_vals - min_vals)"
      ],
      "metadata": {
        "id": "w7ODrgSm7ony"
      },
      "execution_count": 205,
      "outputs": []
    },
    {
      "cell_type": "code",
      "source": [
        "print(normalized_matrix)"
      ],
      "metadata": {
        "id": "BO9vobjn7v7o",
        "colab": {
          "base_uri": "https://localhost:8080/"
        },
        "outputId": "588effad-5f6b-4ef7-c2f5-111cea3b6f5e"
      },
      "execution_count": 206,
      "outputs": [
        {
          "output_type": "stream",
          "name": "stdout",
          "text": [
            "[[0.2092926  0.21475944 0.21162648 ... 0.18800893 0.21077138 0.20522775]\n",
            " [0.20175946 0.21243966 0.20628007 ... 0.19896315 0.19829217 0.2016962 ]\n",
            " [0.3469257  0.35642081 0.35022926 ... 0.33744398 0.34445682 0.34513608]\n",
            " ...\n",
            " [0.27518573 0.28719422 0.28009796 ... 0.24932984 0.27480653 0.27073628]\n",
            " [0.3503999  0.35278636 0.35185373 ... 0.34756094 0.35044163 0.3494095 ]\n",
            " [0.35065043 0.36218852 0.35541806 ... 0.3376698  0.34829172 0.34866303]]\n"
          ]
        }
      ]
    },
    {
      "cell_type": "code",
      "source": [
        "import matplotlib.pyplot as plt\n",
        "import seaborn as sns\n",
        "import numpy as np\n",
        "\n",
        "# Example square matrix\n",
        "# Replace this with your actual square matrix data\n",
        "# matrix = explanation['user']['node_mask']\n",
        "\n",
        "# Plotting the heatmap\n",
        "# plt.figure(figsize=(8, 6))  # Adjust the size as needed\n",
        "sns.heatmap(normalized_matrix, annot=True, cmap='viridis', square=True)\n",
        "\n",
        "# Adding titles and labels as necessary\n",
        "plt.title('Heatmap of a Square Matrix')\n",
        "plt.xlabel('X-axis Label')\n",
        "plt.ylabel('Y-axis Label')\n",
        "\n",
        "plt.show()\n"
      ],
      "metadata": {
        "id": "wOcIdX_p5k2g",
        "colab": {
          "base_uri": "https://localhost:8080/",
          "height": 484
        },
        "outputId": "fda74231-db51-4a1c-dd36-82ac18c02eba"
      },
      "execution_count": 207,
      "outputs": [
        {
          "output_type": "display_data",
          "data": {
            "text/plain": [
              "<Figure size 640x480 with 2 Axes>"
            ],
            "image/png": "[encoded data removed]"
          },
          "metadata": {}
        }
      ]
    },
    {
      "cell_type": "code",
      "source": [
        "import captum\n",
        "from torch_geometric.explain import CaptumExplainer\n",
        "explainer = Explainer(\n",
        "    model=model,\n",
        "    algorithm=CaptumExplainer('Saliency'),\n",
        "    explanation_type='phenomenon', # or\n",
        "    node_mask_type='attributes',\n",
        "    edge_mask_type='object',\n",
        "    model_config=dict(\n",
        "        mode='regression',\n",
        "        task_level='node',\n",
        "        return_type='raw',\n",
        "    ),)\n",
        "\n",
        "node_index = 10\n",
        "explanation = explainer(x=train_data.x_dict, edge_index=train_data.edge_index_dict, target=train_data['user', 'item'].edge_label, edge_label_index=train_data['user', 'item'].edge_label_index)\n",
        "print(f'Generated explanations in {explanation.available_explanations}')\n",
        "\n",
        "path = 'feature_importance_amazon_phenomenon.png'\n",
        "explanation.visualize_feature_importance(path, top_k=20)\n",
        "print(f\"Feature importance plot has been saved to '{path}'\")\n",
        "\n",
        "# path = 'subgraph.pdf'\n",
        "# explanation.visualize_graph(path)\n",
        "# print(f\"Subgraph visualization plot has been saved to '{path}'\")\n"
      ],
      "metadata": {
        "id": "xfx4PfQvArJN",
        "colab": {
          "base_uri": "https://localhost:8080/"
        },
        "outputId": "10c59a89-d910-4e6b-f458-87635060f264"
      },
      "execution_count": 208,
      "outputs": [
        {
          "output_type": "stream",
          "name": "stderr",
          "text": [
            "/usr/local/lib/python3.10/dist-packages/captum/_utils/gradient.py:57: UserWarning: Input Tensor 0 did not already require gradients, required_grads has been set automatically.\n",
            "  warnings.warn(\n",
            "/usr/local/lib/python3.10/dist-packages/captum/_utils/gradient.py:57: UserWarning: Input Tensor 1 did not already require gradients, required_grads has been set automatically.\n",
            "  warnings.warn(\n"
          ]
        },
        {
          "output_type": "stream",
          "name": "stdout",
          "text": [
            "Generated explanations in ['edge_mask', 'node_mask']\n",
            "Feature importance plot has been saved to 'feature_importance_amazon_phenomenon.png'\n"
          ]
        }
      ]
    },
    {
      "cell_type": "code",
      "source": [
        "result_df = pd.DataFrame({'loss':loss_curve,'train':Train_curve,'val':Val_curve,'test':Test_curve})\n",
        "result_df.to_csv('GAT_amazon_512_3.csv', index=False)"
      ],
      "metadata": {
        "id": "5Uk-aJLej61u"
      },
      "execution_count": 209,
      "outputs": []
    },
    {
      "cell_type": "code",
      "source": [
        "\n",
        "# Plotting accuracy vs. epochs for each learning rate and optimizer\n",
        "plt.figure(figsize=(10, 5))\n",
        "plt.subplot(1, 2, 1)\n",
        "plt.plot(range(1,21),loss_curve, label='Train Loss')\n",
        "plt.title('Training Loss over Epochs')\n",
        "plt.xlabel('Epochs')\n",
        "plt.ylabel('Loss')\n",
        "# plt.xticks(range(1,51))\n",
        "plt.legend()\n",
        "\n",
        "plt.subplot(1, 2, 2)\n",
        "plt.plot(range(1,21),Val_curve, label='Validation RMSE')\n",
        "plt.plot(range(1,21),Test_curve, label='Test RMSE')\n",
        "plt.title('Validation and Test RMSE over Epochs')\n",
        "plt.xlabel('Epochs')\n",
        "plt.ylabel('Metric')\n",
        "# plt.xticks(range(1,51))\n",
        "plt.legend()\n",
        "\n",
        "plt.tight_layout()\n",
        "plt.show()"
      ],
      "metadata": {
        "id": "TI1NA3BuBuHd",
        "colab": {
          "base_uri": "https://localhost:8080/",
          "height": 507
        },
        "outputId": "279590c7-4395-4d96-926d-66bc1a5464d5"
      },
      "execution_count": 213,
      "outputs": [
        {
          "output_type": "display_data",
          "data": {
            "text/plain": [
              "<Figure size 1000x500 with 2 Axes>"
            ],
            "image/png": "[encoded data removed]"
          },
          "metadata": {}
        }
      ]
    },
    {
      "cell_type": "code",
      "source": [
        "learning_rates = [1e-3, 1e-4, 1e-5, 1e-6]\n",
        "optimizers = [torch.optim.Adam, torch.optim.SGD, torch.optim.NAdam]  # Add more optimizers as needed\n",
        "optimizer_names = ['Adam', 'SGD', 'NAdam']  # Match optimizer list\n",
        "columns = ['Learning Rate', 'Epochs', 'Optimizer', 'Test RMSE']\n",
        "results_df = pd.DataFrame(columns=columns)\n",
        "\n",
        "for lr in learning_rates:\n",
        "    for opt, opt_name in zip(optimizers, optimizer_names):\n",
        "        model = GATModel(hidden_channels=32).to(device)\n",
        "        optimizer = opt(model.parameters(), lr=lr)\n",
        "        loss_curve=[]\n",
        "        Train_curve=[]\n",
        "        Val_curve=[]\n",
        "        Test_curve=[]\n",
        "        for epoch in range(1, 21):\n",
        "          loss = train(train_loader)\n",
        "          train_rmse = test(train_loader)\n",
        "          val_rmse = test(val_loader)\n",
        "          test_rmse = test(test_loader)\n",
        "          loss_curve.append(loss)\n",
        "          Train_curve.append(train_rmse)\n",
        "          Val_curve.append(val_rmse)\n",
        "          Test_curve.append(test_rmse)\n",
        "        # final_test_rmse = np.min(Test_curve)\n",
        "        # Store the results in the DataFrame\n",
        "        results_df = results_df.append({'Learning Rate': lr,\n",
        "                                        'Epochs': 20,\n",
        "                                        'Optimizer': opt_name,\n",
        "                                        'Test RMSE': Test_curve},\n",
        "                                        ignore_index=True)\n",
        "# Plotting accuracy vs. epochs for each learning rate and optimizer\n",
        "for lr in learning_rates:\n",
        "    for opt_name in optimizer_names:\n",
        "        subset_df = results_df[(results_df['Learning Rate'] == lr) & (results_df['Optimizer'] == opt_name)]\n",
        "        plt.plot(range(1,21), subset_df['Test RMSE'].tolist()[0], label=f'{opt_name}, LR={lr}')\n",
        "\n",
        "plt.xlabel('Epochs')\n",
        "plt.ylabel('Final Test RMSE')\n",
        "plt.title('Amazon GAT')\n",
        "plt.legend()\n",
        "plt.savefig('AMAZON_GAT.png')\n",
        "plt.show()"
      ],
      "metadata": {
        "id": "0005C7Fpo9oa",
        "colab": {
          "base_uri": "https://localhost:8080/",
          "height": 1000
        },
        "outputId": "fe406294-9838-43e3-8fc2-23d62b37e1c1"
      },
      "execution_count": 214,
      "outputs": [
        {
          "output_type": "stream",
          "name": "stderr",
          "text": [
            "<ipython-input-192-f3c4633bb9e3>:90: UserWarning: Using a target size (torch.Size([512, 1])) that is different to the input size (torch.Size([512])). This will likely lead to incorrect results due to broadcasting. Please ensure they have the same size.\n",
            "  rmse = F.mse_loss(pred, target).sqrt()\n",
            "<ipython-input-192-f3c4633bb9e3>:90: UserWarning: Using a target size (torch.Size([126, 1])) that is different to the input size (torch.Size([126])). This will likely lead to incorrect results due to broadcasting. Please ensure they have the same size.\n",
            "  rmse = F.mse_loss(pred, target).sqrt()\n",
            "<ipython-input-192-f3c4633bb9e3>:90: UserWarning: Using a target size (torch.Size([158, 1])) that is different to the input size (torch.Size([158])). This will likely lead to incorrect results due to broadcasting. Please ensure they have the same size.\n",
            "  rmse = F.mse_loss(pred, target).sqrt()\n",
            "<ipython-input-192-f3c4633bb9e3>:90: UserWarning: Using a target size (torch.Size([316, 1])) that is different to the input size (torch.Size([316])). This will likely lead to incorrect results due to broadcasting. Please ensure they have the same size.\n",
            "  rmse = F.mse_loss(pred, target).sqrt()\n",
            "<ipython-input-214-e4c38162b4d2>:26: FutureWarning: The frame.append method is deprecated and will be removed from pandas in a future version. Use pandas.concat instead.\n",
            "  results_df = results_df.append({'Learning Rate': lr,\n",
            "<ipython-input-192-f3c4633bb9e3>:90: UserWarning: Using a target size (torch.Size([512, 1])) that is different to the input size (torch.Size([512])). This will likely lead to incorrect results due to broadcasting. Please ensure they have the same size.\n",
            "  rmse = F.mse_loss(pred, target).sqrt()\n",
            "<ipython-input-192-f3c4633bb9e3>:90: UserWarning: Using a target size (torch.Size([126, 1])) that is different to the input size (torch.Size([126])). This will likely lead to incorrect results due to broadcasting. Please ensure they have the same size.\n",
            "  rmse = F.mse_loss(pred, target).sqrt()\n",
            "<ipython-input-192-f3c4633bb9e3>:90: UserWarning: Using a target size (torch.Size([158, 1])) that is different to the input size (torch.Size([158])). This will likely lead to incorrect results due to broadcasting. Please ensure they have the same size.\n",
            "  rmse = F.mse_loss(pred, target).sqrt()\n",
            "<ipython-input-192-f3c4633bb9e3>:90: UserWarning: Using a target size (torch.Size([316, 1])) that is different to the input size (torch.Size([316])). This will likely lead to incorrect results due to broadcasting. Please ensure they have the same size.\n",
            "  rmse = F.mse_loss(pred, target).sqrt()\n",
            "<ipython-input-214-e4c38162b4d2>:26: FutureWarning: The frame.append method is deprecated and will be removed from pandas in a future version. Use pandas.concat instead.\n",
            "  results_df = results_df.append({'Learning Rate': lr,\n",
            "<ipython-input-192-f3c4633bb9e3>:90: UserWarning: Using a target size (torch.Size([512, 1])) that is different to the input size (torch.Size([512])). This will likely lead to incorrect results due to broadcasting. Please ensure they have the same size.\n",
            "  rmse = F.mse_loss(pred, target).sqrt()\n",
            "<ipython-input-192-f3c4633bb9e3>:90: UserWarning: Using a target size (torch.Size([126, 1])) that is different to the input size (torch.Size([126])). This will likely lead to incorrect results due to broadcasting. Please ensure they have the same size.\n",
            "  rmse = F.mse_loss(pred, target).sqrt()\n",
            "<ipython-input-192-f3c4633bb9e3>:90: UserWarning: Using a target size (torch.Size([158, 1])) that is different to the input size (torch.Size([158])). This will likely lead to incorrect results due to broadcasting. Please ensure they have the same size.\n",
            "  rmse = F.mse_loss(pred, target).sqrt()\n",
            "<ipython-input-192-f3c4633bb9e3>:90: UserWarning: Using a target size (torch.Size([316, 1])) that is different to the input size (torch.Size([316])). This will likely lead to incorrect results due to broadcasting. Please ensure they have the same size.\n",
            "  rmse = F.mse_loss(pred, target).sqrt()\n",
            "<ipython-input-214-e4c38162b4d2>:26: FutureWarning: The frame.append method is deprecated and will be removed from pandas in a future version. Use pandas.concat instead.\n",
            "  results_df = results_df.append({'Learning Rate': lr,\n",
            "<ipython-input-192-f3c4633bb9e3>:90: UserWarning: Using a target size (torch.Size([512, 1])) that is different to the input size (torch.Size([512])). This will likely lead to incorrect results due to broadcasting. Please ensure they have the same size.\n",
            "  rmse = F.mse_loss(pred, target).sqrt()\n",
            "<ipython-input-192-f3c4633bb9e3>:90: UserWarning: Using a target size (torch.Size([126, 1])) that is different to the input size (torch.Size([126])). This will likely lead to incorrect results due to broadcasting. Please ensure they have the same size.\n",
            "  rmse = F.mse_loss(pred, target).sqrt()\n",
            "<ipython-input-192-f3c4633bb9e3>:90: UserWarning: Using a target size (torch.Size([158, 1])) that is different to the input size (torch.Size([158])). This will likely lead to incorrect results due to broadcasting. Please ensure they have the same size.\n",
            "  rmse = F.mse_loss(pred, target).sqrt()\n",
            "<ipython-input-192-f3c4633bb9e3>:90: UserWarning: Using a target size (torch.Size([316, 1])) that is different to the input size (torch.Size([316])). This will likely lead to incorrect results due to broadcasting. Please ensure they have the same size.\n",
            "  rmse = F.mse_loss(pred, target).sqrt()\n",
            "<ipython-input-214-e4c38162b4d2>:26: FutureWarning: The frame.append method is deprecated and will be removed from pandas in a future version. Use pandas.concat instead.\n",
            "  results_df = results_df.append({'Learning Rate': lr,\n",
            "<ipython-input-192-f3c4633bb9e3>:90: UserWarning: Using a target size (torch.Size([512, 1])) that is different to the input size (torch.Size([512])). This will likely lead to incorrect results due to broadcasting. Please ensure they have the same size.\n",
            "  rmse = F.mse_loss(pred, target).sqrt()\n",
            "<ipython-input-192-f3c4633bb9e3>:90: UserWarning: Using a target size (torch.Size([126, 1])) that is different to the input size (torch.Size([126])). This will likely lead to incorrect results due to broadcasting. Please ensure they have the same size.\n",
            "  rmse = F.mse_loss(pred, target).sqrt()\n",
            "<ipython-input-192-f3c4633bb9e3>:90: UserWarning: Using a target size (torch.Size([158, 1])) that is different to the input size (torch.Size([158])). This will likely lead to incorrect results due to broadcasting. Please ensure they have the same size.\n",
            "  rmse = F.mse_loss(pred, target).sqrt()\n",
            "<ipython-input-192-f3c4633bb9e3>:90: UserWarning: Using a target size (torch.Size([316, 1])) that is different to the input size (torch.Size([316])). This will likely lead to incorrect results due to broadcasting. Please ensure they have the same size.\n",
            "  rmse = F.mse_loss(pred, target).sqrt()\n",
            "<ipython-input-214-e4c38162b4d2>:26: FutureWarning: The frame.append method is deprecated and will be removed from pandas in a future version. Use pandas.concat instead.\n",
            "  results_df = results_df.append({'Learning Rate': lr,\n",
            "<ipython-input-192-f3c4633bb9e3>:90: UserWarning: Using a target size (torch.Size([512, 1])) that is different to the input size (torch.Size([512])). This will likely lead to incorrect results due to broadcasting. Please ensure they have the same size.\n",
            "  rmse = F.mse_loss(pred, target).sqrt()\n",
            "<ipython-input-192-f3c4633bb9e3>:90: UserWarning: Using a target size (torch.Size([126, 1])) that is different to the input size (torch.Size([126])). This will likely lead to incorrect results due to broadcasting. Please ensure they have the same size.\n",
            "  rmse = F.mse_loss(pred, target).sqrt()\n",
            "<ipython-input-192-f3c4633bb9e3>:90: UserWarning: Using a target size (torch.Size([158, 1])) that is different to the input size (torch.Size([158])). This will likely lead to incorrect results due to broadcasting. Please ensure they have the same size.\n",
            "  rmse = F.mse_loss(pred, target).sqrt()\n",
            "<ipython-input-192-f3c4633bb9e3>:90: UserWarning: Using a target size (torch.Size([316, 1])) that is different to the input size (torch.Size([316])). This will likely lead to incorrect results due to broadcasting. Please ensure they have the same size.\n",
            "  rmse = F.mse_loss(pred, target).sqrt()\n",
            "<ipython-input-214-e4c38162b4d2>:26: FutureWarning: The frame.append method is deprecated and will be removed from pandas in a future version. Use pandas.concat instead.\n",
            "  results_df = results_df.append({'Learning Rate': lr,\n",
            "<ipython-input-192-f3c4633bb9e3>:90: UserWarning: Using a target size (torch.Size([512, 1])) that is different to the input size (torch.Size([512])). This will likely lead to incorrect results due to broadcasting. Please ensure they have the same size.\n",
            "  rmse = F.mse_loss(pred, target).sqrt()\n",
            "<ipython-input-192-f3c4633bb9e3>:90: UserWarning: Using a target size (torch.Size([126, 1])) that is different to the input size (torch.Size([126])). This will likely lead to incorrect results due to broadcasting. Please ensure they have the same size.\n",
            "  rmse = F.mse_loss(pred, target).sqrt()\n",
            "<ipython-input-192-f3c4633bb9e3>:90: UserWarning: Using a target size (torch.Size([158, 1])) that is different to the input size (torch.Size([158])). This will likely lead to incorrect results due to broadcasting. Please ensure they have the same size.\n",
            "  rmse = F.mse_loss(pred, target).sqrt()\n",
            "<ipython-input-192-f3c4633bb9e3>:90: UserWarning: Using a target size (torch.Size([316, 1])) that is different to the input size (torch.Size([316])). This will likely lead to incorrect results due to broadcasting. Please ensure they have the same size.\n",
            "  rmse = F.mse_loss(pred, target).sqrt()\n",
            "<ipython-input-214-e4c38162b4d2>:26: FutureWarning: The frame.append method is deprecated and will be removed from pandas in a future version. Use pandas.concat instead.\n",
            "  results_df = results_df.append({'Learning Rate': lr,\n",
            "<ipython-input-192-f3c4633bb9e3>:90: UserWarning: Using a target size (torch.Size([512, 1])) that is different to the input size (torch.Size([512])). This will likely lead to incorrect results due to broadcasting. Please ensure they have the same size.\n",
            "  rmse = F.mse_loss(pred, target).sqrt()\n",
            "<ipython-input-192-f3c4633bb9e3>:90: UserWarning: Using a target size (torch.Size([126, 1])) that is different to the input size (torch.Size([126])). This will likely lead to incorrect results due to broadcasting. Please ensure they have the same size.\n",
            "  rmse = F.mse_loss(pred, target).sqrt()\n",
            "<ipython-input-192-f3c4633bb9e3>:90: UserWarning: Using a target size (torch.Size([158, 1])) that is different to the input size (torch.Size([158])). This will likely lead to incorrect results due to broadcasting. Please ensure they have the same size.\n",
            "  rmse = F.mse_loss(pred, target).sqrt()\n",
            "<ipython-input-192-f3c4633bb9e3>:90: UserWarning: Using a target size (torch.Size([316, 1])) that is different to the input size (torch.Size([316])). This will likely lead to incorrect results due to broadcasting. Please ensure they have the same size.\n",
            "  rmse = F.mse_loss(pred, target).sqrt()\n",
            "<ipython-input-214-e4c38162b4d2>:26: FutureWarning: The frame.append method is deprecated and will be removed from pandas in a future version. Use pandas.concat instead.\n",
            "  results_df = results_df.append({'Learning Rate': lr,\n",
            "<ipython-input-192-f3c4633bb9e3>:90: UserWarning: Using a target size (torch.Size([512, 1])) that is different to the input size (torch.Size([512])). This will likely lead to incorrect results due to broadcasting. Please ensure they have the same size.\n",
            "  rmse = F.mse_loss(pred, target).sqrt()\n",
            "<ipython-input-192-f3c4633bb9e3>:90: UserWarning: Using a target size (torch.Size([126, 1])) that is different to the input size (torch.Size([126])). This will likely lead to incorrect results due to broadcasting. Please ensure they have the same size.\n",
            "  rmse = F.mse_loss(pred, target).sqrt()\n",
            "<ipython-input-192-f3c4633bb9e3>:90: UserWarning: Using a target size (torch.Size([158, 1])) that is different to the input size (torch.Size([158])). This will likely lead to incorrect results due to broadcasting. Please ensure they have the same size.\n",
            "  rmse = F.mse_loss(pred, target).sqrt()\n",
            "<ipython-input-192-f3c4633bb9e3>:90: UserWarning: Using a target size (torch.Size([316, 1])) that is different to the input size (torch.Size([316])). This will likely lead to incorrect results due to broadcasting. Please ensure they have the same size.\n",
            "  rmse = F.mse_loss(pred, target).sqrt()\n",
            "<ipython-input-214-e4c38162b4d2>:26: FutureWarning: The frame.append method is deprecated and will be removed from pandas in a future version. Use pandas.concat instead.\n",
            "  results_df = results_df.append({'Learning Rate': lr,\n",
            "<ipython-input-192-f3c4633bb9e3>:90: UserWarning: Using a target size (torch.Size([512, 1])) that is different to the input size (torch.Size([512])). This will likely lead to incorrect results due to broadcasting. Please ensure they have the same size.\n",
            "  rmse = F.mse_loss(pred, target).sqrt()\n",
            "<ipython-input-192-f3c4633bb9e3>:90: UserWarning: Using a target size (torch.Size([126, 1])) that is different to the input size (torch.Size([126])). This will likely lead to incorrect results due to broadcasting. Please ensure they have the same size.\n",
            "  rmse = F.mse_loss(pred, target).sqrt()\n",
            "<ipython-input-192-f3c4633bb9e3>:90: UserWarning: Using a target size (torch.Size([158, 1])) that is different to the input size (torch.Size([158])). This will likely lead to incorrect results due to broadcasting. Please ensure they have the same size.\n",
            "  rmse = F.mse_loss(pred, target).sqrt()\n",
            "<ipython-input-192-f3c4633bb9e3>:90: UserWarning: Using a target size (torch.Size([316, 1])) that is different to the input size (torch.Size([316])). This will likely lead to incorrect results due to broadcasting. Please ensure they have the same size.\n",
            "  rmse = F.mse_loss(pred, target).sqrt()\n",
            "<ipython-input-214-e4c38162b4d2>:26: FutureWarning: The frame.append method is deprecated and will be removed from pandas in a future version. Use pandas.concat instead.\n",
            "  results_df = results_df.append({'Learning Rate': lr,\n",
            "<ipython-input-192-f3c4633bb9e3>:90: UserWarning: Using a target size (torch.Size([512, 1])) that is different to the input size (torch.Size([512])). This will likely lead to incorrect results due to broadcasting. Please ensure they have the same size.\n",
            "  rmse = F.mse_loss(pred, target).sqrt()\n",
            "<ipython-input-192-f3c4633bb9e3>:90: UserWarning: Using a target size (torch.Size([126, 1])) that is different to the input size (torch.Size([126])). This will likely lead to incorrect results due to broadcasting. Please ensure they have the same size.\n",
            "  rmse = F.mse_loss(pred, target).sqrt()\n",
            "<ipython-input-192-f3c4633bb9e3>:90: UserWarning: Using a target size (torch.Size([158, 1])) that is different to the input size (torch.Size([158])). This will likely lead to incorrect results due to broadcasting. Please ensure they have the same size.\n",
            "  rmse = F.mse_loss(pred, target).sqrt()\n",
            "<ipython-input-192-f3c4633bb9e3>:90: UserWarning: Using a target size (torch.Size([316, 1])) that is different to the input size (torch.Size([316])). This will likely lead to incorrect results due to broadcasting. Please ensure they have the same size.\n",
            "  rmse = F.mse_loss(pred, target).sqrt()\n",
            "<ipython-input-214-e4c38162b4d2>:26: FutureWarning: The frame.append method is deprecated and will be removed from pandas in a future version. Use pandas.concat instead.\n",
            "  results_df = results_df.append({'Learning Rate': lr,\n",
            "<ipython-input-192-f3c4633bb9e3>:90: UserWarning: Using a target size (torch.Size([512, 1])) that is different to the input size (torch.Size([512])). This will likely lead to incorrect results due to broadcasting. Please ensure they have the same size.\n",
            "  rmse = F.mse_loss(pred, target).sqrt()\n",
            "<ipython-input-192-f3c4633bb9e3>:90: UserWarning: Using a target size (torch.Size([126, 1])) that is different to the input size (torch.Size([126])). This will likely lead to incorrect results due to broadcasting. Please ensure they have the same size.\n",
            "  rmse = F.mse_loss(pred, target).sqrt()\n",
            "<ipython-input-192-f3c4633bb9e3>:90: UserWarning: Using a target size (torch.Size([158, 1])) that is different to the input size (torch.Size([158])). This will likely lead to incorrect results due to broadcasting. Please ensure they have the same size.\n",
            "  rmse = F.mse_loss(pred, target).sqrt()\n",
            "<ipython-input-192-f3c4633bb9e3>:90: UserWarning: Using a target size (torch.Size([316, 1])) that is different to the input size (torch.Size([316])). This will likely lead to incorrect results due to broadcasting. Please ensure they have the same size.\n",
            "  rmse = F.mse_loss(pred, target).sqrt()\n",
            "<ipython-input-214-e4c38162b4d2>:26: FutureWarning: The frame.append method is deprecated and will be removed from pandas in a future version. Use pandas.concat instead.\n",
            "  results_df = results_df.append({'Learning Rate': lr,\n"
          ]
        },
        {
          "output_type": "display_data",
          "data": {
            "text/plain": [
              "<Figure size 640x480 with 1 Axes>"
            ],
            "image/png": "[encoded data removed]"
          },
          "metadata": {}
        }
      ]
    },
    {
      "cell_type": "markdown",
      "source": [
        "Drugs.com"
      ],
      "metadata": {
        "id": "x9JqpQM8bUIC"
      }
    },
    {
      "cell_type": "code",
      "source": [
        "train_data_drug = pd.read_csv(\"/content/drive/MyDrive/data/drugscom/drugsComTrain_raw.tsv\", delimiter='\\t').dropna()\n",
        "test_data_drug = pd.read_csv(\"/content/drive/MyDrive/data/drugscom/drugsComTest_raw.tsv\", delimiter='\\t').dropna()\n",
        "combined_data = pd.concat([train_data_drug, test_data_drug], ignore_index=True)\n",
        "combined_data.drop(['Unnamed: 0'], axis=1, inplace=True)\n",
        "numerical_stats = combined_data.describe()\n",
        "unique_counts = combined_data[['drugName', 'condition']].nunique()\n",
        "\n",
        "numerical_stats, unique_counts"
      ],
      "metadata": {
        "id": "SOdBlPHCBt-H",
        "colab": {
          "base_uri": "https://localhost:8080/"
        },
        "outputId": "4ec4dc45-cb9a-414a-df90-f3f56d584234"
      },
      "execution_count": 215,
      "outputs": [
        {
          "output_type": "execute_result",
          "data": {
            "text/plain": [
              "(              rating    usefulCount\n",
              " count  213869.000000  213869.000000\n",
              " mean        6.991149      28.094118\n",
              " std         3.275792      36.401377\n",
              " min         1.000000       0.000000\n",
              " 25%         5.000000       6.000000\n",
              " 50%         8.000000      16.000000\n",
              " 75%        10.000000      36.000000\n",
              " max        10.000000    1291.000000,\n",
              " drugName     3667\n",
              " condition     916\n",
              " dtype: int64)"
            ]
          },
          "metadata": {},
          "execution_count": 215
        }
      ]
    },
    {
      "cell_type": "code",
      "source": [
        "missing_values = combined_data.isnull().sum()\n",
        "missing_values"
      ],
      "metadata": {
        "id": "j_ZEdyskbx16",
        "colab": {
          "base_uri": "https://localhost:8080/"
        },
        "outputId": "42658d01-b09a-4b28-a5f4-f30f4a038d0f"
      },
      "execution_count": 216,
      "outputs": [
        {
          "output_type": "execute_result",
          "data": {
            "text/plain": [
              "drugName       0\n",
              "condition      0\n",
              "review         0\n",
              "rating         0\n",
              "date           0\n",
              "usefulCount    0\n",
              "dtype: int64"
            ]
          },
          "metadata": {},
          "execution_count": 216
        }
      ]
    },
    {
      "cell_type": "code",
      "source": [
        "user_mapping = {index: i for i, index in enumerate(combined_data.condition.unique())}\n",
        "item_mapping = {index: i for i, index in enumerate(combined_data.drugName.unique())}\n"
      ],
      "metadata": {
        "id": "7DMDa9eucCWW"
      },
      "execution_count": 217,
      "outputs": []
    },
    {
      "cell_type": "code",
      "source": [
        "keys_with_value = [key for key, value in item_mapping.items() if value == 225]\n",
        "keys_with_value"
      ],
      "metadata": {
        "colab": {
          "base_uri": "https://localhost:8080/"
        },
        "id": "Fi6BC5gMuito",
        "outputId": "eb3647c3-7fbb-49a3-9baf-ecc013ef5122"
      },
      "execution_count": 218,
      "outputs": [
        {
          "output_type": "execute_result",
          "data": {
            "text/plain": [
              "['Anastrozole']"
            ]
          },
          "metadata": {},
          "execution_count": 218
        }
      ]
    },
    {
      "cell_type": "code",
      "source": [
        "keys_with_value = [key for key, value in user_mapping.items() if value == 278]\n",
        "keys_with_value"
      ],
      "metadata": {
        "colab": {
          "base_uri": "https://localhost:8080/"
        },
        "id": "3w19GBYEvNxL",
        "outputId": "7976df8e-d849-4312-bb5f-f08d06667a19"
      },
      "execution_count": 219,
      "outputs": [
        {
          "output_type": "execute_result",
          "data": {
            "text/plain": [
              "['Hyperprolactinemia']"
            ]
          },
          "metadata": {},
          "execution_count": 219
        }
      ]
    },
    {
      "cell_type": "code",
      "source": [
        "drug_feature={}\n",
        "for drug, reviews in combined_data.groupby('drugName')['review']:\n",
        "  item_reviews=[]\n",
        "  for review in reviews:\n",
        "    item_reviews.append(text2vector(review))\n",
        "  reviews_tensor = torch.cat(item_reviews)\n",
        "  item_mean = torch.mean(reviews_tensor,dim=0)\n",
        "  drug_feature[drug] = item_mean"
      ],
      "metadata": {
        "id": "Q_DDUjVegAln"
      },
      "execution_count": 220,
      "outputs": []
    },
    {
      "cell_type": "code",
      "source": [
        "condition_feature={}\n",
        "for condition in combined_data.condition.unique():\n",
        "  condition_fea = text2vector(condition)\n",
        "  condition_feature[condition] = condition_fea"
      ],
      "metadata": {
        "id": "OEfhUUKScuoI"
      },
      "execution_count": 221,
      "outputs": []
    },
    {
      "cell_type": "code",
      "source": [
        "data = HeteroData()"
      ],
      "metadata": {
        "id": "pfXKdnbWcqno"
      },
      "execution_count": 222,
      "outputs": []
    },
    {
      "cell_type": "code",
      "source": [
        "item_embeddings=torch.zeros([len(item_mapping),300])\n",
        "for drug in item_mapping.keys():\n",
        "  idx=item_mapping[drug]\n",
        "  item_embeddings[idx]=drug_feature[drug]\n",
        "data['item'].x = item_embeddings"
      ],
      "metadata": {
        "id": "bOX5wgrrg3IN"
      },
      "execution_count": 223,
      "outputs": []
    },
    {
      "cell_type": "code",
      "source": [
        "user_embeddings=torch.zeros([len(user_mapping),300])\n",
        "for condition in user_mapping.keys():\n",
        "  idx=user_mapping[condition]\n",
        "  user_embeddings[idx]=condition_feature[condition]\n",
        "data['user'].x = user_embeddings"
      ],
      "metadata": {
        "id": "7UHHPLAahSGq"
      },
      "execution_count": 224,
      "outputs": []
    },
    {
      "cell_type": "code",
      "source": [
        "user_item_edge_index = []\n",
        "for index, row in combined_data.iterrows():\n",
        "  user_item_edge_index.append([user_mapping[row['condition']],item_mapping[row['drugName']]])\n",
        "user_item_edge_index = torch.tensor(user_item_edge_index).t()\n",
        "user_item_edge_index.shape"
      ],
      "metadata": {
        "id": "qrAVJ9vAhk-3",
        "colab": {
          "base_uri": "https://localhost:8080/"
        },
        "outputId": "46ef6c96-de26-49b6-a382-50478d3cbd4c"
      },
      "execution_count": 225,
      "outputs": [
        {
          "output_type": "execute_result",
          "data": {
            "text/plain": [
              "torch.Size([2, 213869])"
            ]
          },
          "metadata": {},
          "execution_count": 225
        }
      ]
    },
    {
      "cell_type": "code",
      "source": [
        "user_item_edge_label = []\n",
        "for index, row in combined_data.iterrows():\n",
        "  user_item_edge_label.append(row['rating'])\n",
        "user_item_edge_label = torch.tensor(user_item_edge_label).view(-1,1)\n",
        "print(user_item_edge_label)\n",
        "user_item_edge_label.shape"
      ],
      "metadata": {
        "id": "6iCsUSSOhvbg",
        "colab": {
          "base_uri": "https://localhost:8080/"
        },
        "outputId": "75548e9c-13e1-4b39-8dbf-d4f30e3bd99c"
      },
      "execution_count": 226,
      "outputs": [
        {
          "output_type": "stream",
          "name": "stdout",
          "text": [
            "tensor([[9.],\n",
            "        [8.],\n",
            "        [5.],\n",
            "        ...,\n",
            "        [8.],\n",
            "        [1.],\n",
            "        [9.]])\n"
          ]
        },
        {
          "output_type": "execute_result",
          "data": {
            "text/plain": [
              "torch.Size([213869, 1])"
            ]
          },
          "metadata": {},
          "execution_count": 226
        }
      ]
    },
    {
      "cell_type": "code",
      "source": [
        "data['user', 'rates', 'item'].edge_index = user_item_edge_index\n",
        "data['user', 'rates', 'item'].edge_label = user_item_edge_label\n",
        "print(data)"
      ],
      "metadata": {
        "id": "D77zv3qjh6Qr",
        "colab": {
          "base_uri": "https://localhost:8080/"
        },
        "outputId": "43da4ac5-3a86-4b43-8932-d84c8d4ee69f"
      },
      "execution_count": 227,
      "outputs": [
        {
          "output_type": "stream",
          "name": "stdout",
          "text": [
            "HeteroData(\n",
            "  item={ x=[3667, 300] },\n",
            "  user={ x=[916, 300] },\n",
            "  (user, rates, item)={\n",
            "    edge_index=[2, 213869],\n",
            "    edge_label=[213869, 1],\n",
            "  }\n",
            ")\n"
          ]
        }
      ]
    },
    {
      "cell_type": "code",
      "source": [
        "# 1. Add a reverse ('movie', 'rev_rates', 'user') relation for message passing.\n",
        "data = ToUndirected()(data)\n",
        "del data['item', 'rev_rates', 'user'].edge_label  # Remove \"reverse\" label.\n",
        "torch.save(data, '/content/drive/MyDrive/data/drugcom.pt')\n",
        "print(data)\n",
        "# 2. Perform a link-level split into training, validation, and test edges.\n",
        "transform = RandomLinkSplit(\n",
        "    num_val=0.05,   #0.1\n",
        "    num_test=0.1,   #0.1\n",
        "    neg_sampling_ratio=0.0,\n",
        "    edge_types=[('user', 'rates', 'item')],\n",
        "    rev_edge_types=[('item', 'rev_rates', 'user')],\n",
        ")\n",
        "train_data, val_data, test_data = transform(data)\n",
        "print(train_data)\n",
        "print(val_data)\n",
        "print(test_data)"
      ],
      "metadata": {
        "id": "GvAcDxkHiND6",
        "colab": {
          "base_uri": "https://localhost:8080/"
        },
        "outputId": "d3ec21e2-54e5-4585-fed5-5c7d2d33e5ca"
      },
      "execution_count": 228,
      "outputs": [
        {
          "output_type": "stream",
          "name": "stdout",
          "text": [
            "HeteroData(\n",
            "  item={ x=[3667, 300] },\n",
            "  user={ x=[916, 300] },\n",
            "  (user, rates, item)={\n",
            "    edge_index=[2, 213869],\n",
            "    edge_label=[213869, 1],\n",
            "  },\n",
            "  (item, rev_rates, user)={ edge_index=[2, 213869] }\n",
            ")\n",
            "HeteroData(\n",
            "  item={ x=[3667, 300] },\n",
            "  user={ x=[916, 300] },\n",
            "  (user, rates, item)={\n",
            "    edge_index=[2, 181790],\n",
            "    edge_label=[181790, 1],\n",
            "    edge_label_index=[2, 181790],\n",
            "  },\n",
            "  (item, rev_rates, user)={ edge_index=[2, 181790] }\n",
            ")\n",
            "HeteroData(\n",
            "  item={ x=[3667, 300] },\n",
            "  user={ x=[916, 300] },\n",
            "  (user, rates, item)={\n",
            "    edge_index=[2, 181790],\n",
            "    edge_label=[10693, 1],\n",
            "    edge_label_index=[2, 10693],\n",
            "  },\n",
            "  (item, rev_rates, user)={ edge_index=[2, 181790] }\n",
            ")\n",
            "HeteroData(\n",
            "  item={ x=[3667, 300] },\n",
            "  user={ x=[916, 300] },\n",
            "  (user, rates, item)={\n",
            "    edge_index=[2, 192483],\n",
            "    edge_label=[21386, 1],\n",
            "    edge_label_index=[2, 21386],\n",
            "  },\n",
            "  (item, rev_rates, user)={ edge_index=[2, 192483] }\n",
            ")\n"
          ]
        }
      ]
    },
    {
      "cell_type": "code",
      "source": [
        "train_loader = LinkNeighborLoader(\n",
        "    train_data,\n",
        "    # Sample 30 neighbors for each node and edge type for 2 iterations\n",
        "    num_neighbors={key: [30] * 2 for key in train_data.edge_types},\n",
        "    # Use a batch size of 128 for sampling training edges of type (user rates item)\n",
        "    batch_size=512,\n",
        "    edge_label_index=(('user', 'rates', 'item'),train_data['user', 'rates', 'item'].edge_label_index),\n",
        "    edge_label = train_data['user', 'rates', 'item'].edge_label\n",
        ")\n",
        "val_loader = LinkNeighborLoader(\n",
        "    val_data,\n",
        "    # Sample 30 neighbors for each node and edge type for 2 iterations\n",
        "    num_neighbors={key: [30] * 2 for key in val_data.edge_types},\n",
        "    # Use a batch size of 128 for sampling validation edges of type (user rates item)\n",
        "    batch_size=512,\n",
        "    edge_label_index=(('user', 'rates', 'item'),val_data['user', 'rates', 'item'].edge_label_index),\n",
        "    edge_label = val_data['user', 'rates', 'item'].edge_label\n",
        ")\n",
        "test_loader = LinkNeighborLoader(\n",
        "    test_data,\n",
        "    # Sample 30 neighbors for each node and edge type for 2 iterations\n",
        "    num_neighbors={key: [30] * 2 for key in test_data.edge_types},\n",
        "    # Use a batch size of 128 for sampling testing edges of type (user rates item)\n",
        "    batch_size=512,\n",
        "    edge_label_index=(('user', 'rates', 'item'),test_data['user', 'rates', 'item'].edge_label_index),\n",
        "    edge_label = test_data['user', 'rates', 'item'].edge_label\n",
        ")"
      ],
      "metadata": {
        "id": "HZ52rLYG4Z5W",
        "colab": {
          "base_uri": "https://localhost:8080/"
        },
        "outputId": "d94fa591-504a-44a3-acfe-91b37773b408"
      },
      "execution_count": 229,
      "outputs": [
        {
          "output_type": "stream",
          "name": "stderr",
          "text": [
            "/usr/local/lib/python3.10/dist-packages/torch_geometric/sampler/neighbor_sampler.py:60: UserWarning: Using 'NeighborSampler' without a 'pyg-lib' installation is deprecated and will be removed soon. Please install 'pyg-lib' for accelerated neighborhood sampling\n",
            "  warnings.warn(f\"Using '{self.__class__.__name__}' without a \"\n"
          ]
        }
      ]
    },
    {
      "cell_type": "code",
      "source": [
        "model = Model(hidden_channels=32).to(device)\n",
        "optimizer = torch.optim.Adam(model.parameters(), lr=0.01)\n",
        "\n",
        "loss_curve=[]\n",
        "Train_curve=[]\n",
        "Val_curve=[]\n",
        "Test_curve=[]\n",
        "for epoch in range(1, 11):#300\n",
        "    loss = train(train_loader)\n",
        "    train_rmse = test(train_loader)\n",
        "    val_rmse = test(val_loader)\n",
        "    test_rmse = test(test_loader)\n",
        "    loss_curve.append(loss)\n",
        "    Train_curve.append(train_rmse)\n",
        "    Val_curve.append(val_rmse)\n",
        "    Test_curve.append(test_rmse)\n",
        "    print(f'Epoch: {epoch:03d}, Loss: {loss:.4f}, Train: {train_rmse:.4f}, '\n",
        "          f'Val: {val_rmse:.4f}, Test: {test_rmse:.4f}')\n",
        "\n",
        "# Plotting accuracy vs. epochs for each learning rate and optimizer\n",
        "plt.figure(figsize=(10, 5))\n",
        "plt.subplot(1, 2, 1)\n",
        "plt.plot(range(1,11),loss_curve, label='Train Loss')\n",
        "plt.title('Training Loss over Epochs')\n",
        "plt.xlabel('Epochs')\n",
        "plt.ylabel('Loss')\n",
        "# plt.xticks(range(1,51))\n",
        "plt.legend()\n",
        "\n",
        "plt.subplot(1, 2, 2)\n",
        "plt.plot(range(1,11),Val_curve, label='Validation RMSE')\n",
        "plt.plot(range(1,11),Test_curve, label='Test RMSE')\n",
        "plt.title('Validation and Test RMSE over Epochs')\n",
        "plt.xlabel('Epochs')\n",
        "plt.ylabel('Metric')\n",
        "# plt.xticks(range(1,51))\n",
        "plt.legend()\n",
        "\n",
        "plt.tight_layout()\n",
        "plt.show()"
      ],
      "metadata": {
        "id": "Z8tVw8dzio4q",
        "colab": {
          "base_uri": "https://localhost:8080/"
        },
        "outputId": "bdb80937-30f0-4d78-a391-a733bcfaf7a3"
      },
      "execution_count": null,
      "outputs": [
        {
          "output_type": "stream",
          "name": "stderr",
          "text": [
            "<ipython-input-192-f3c4633bb9e3>:90: UserWarning: Using a target size (torch.Size([512, 1])) that is different to the input size (torch.Size([512])). This will likely lead to incorrect results due to broadcasting. Please ensure they have the same size.\n",
            "  rmse = F.mse_loss(pred, target).sqrt()\n",
            "<ipython-input-192-f3c4633bb9e3>:90: UserWarning: Using a target size (torch.Size([30, 1])) that is different to the input size (torch.Size([30])). This will likely lead to incorrect results due to broadcasting. Please ensure they have the same size.\n",
            "  rmse = F.mse_loss(pred, target).sqrt()\n",
            "<ipython-input-192-f3c4633bb9e3>:90: UserWarning: Using a target size (torch.Size([453, 1])) that is different to the input size (torch.Size([453])). This will likely lead to incorrect results due to broadcasting. Please ensure they have the same size.\n",
            "  rmse = F.mse_loss(pred, target).sqrt()\n",
            "<ipython-input-192-f3c4633bb9e3>:90: UserWarning: Using a target size (torch.Size([394, 1])) that is different to the input size (torch.Size([394])). This will likely lead to incorrect results due to broadcasting. Please ensure they have the same size.\n",
            "  rmse = F.mse_loss(pred, target).sqrt()\n"
          ]
        },
        {
          "output_type": "stream",
          "name": "stdout",
          "text": [
            "Epoch: 001, Loss: 11.2894, Train: 3.8330, Val: 3.8480, Test: 3.8336\n",
            "Epoch: 002, Loss: 10.8695, Train: 3.8330, Val: 3.8479, Test: 3.8335\n",
            "Epoch: 003, Loss: 10.8333, Train: 3.8330, Val: 3.8478, Test: 3.8335\n",
            "Epoch: 004, Loss: 10.8148, Train: 3.8330, Val: 3.8478, Test: 3.8334\n",
            "Epoch: 005, Loss: 10.8103, Train: 3.8330, Val: 3.8477, Test: 3.8334\n",
            "Epoch: 006, Loss: 10.8144, Train: 3.8330, Val: 3.8477, Test: 3.8334\n",
            "Epoch: 007, Loss: 10.8096, Train: 3.8330, Val: 3.8477, Test: 3.8334\n",
            "Epoch: 008, Loss: 10.7963, Train: 3.8330, Val: 3.8476, Test: 3.8334\n"
          ]
        }
      ]
    },
    {
      "cell_type": "code",
      "source": [
        "#save loss,train,val,test to pd.csv\n",
        "result_df = pd.DataFrame({'loss':loss_curve,'train':Train_curve,'val':Val_curve,'test':Test_curve})\n",
        "result_df.to_csv('SAGE_drug_512_2.csv', index=False)"
      ],
      "metadata": {
        "id": "LrYBdKdhZc0u"
      },
      "execution_count": null,
      "outputs": []
    },
    {
      "cell_type": "code",
      "source": [
        "explainer = Explainer(\n",
        "    model=model,\n",
        "    algorithm=CaptumExplainer('Saliency'),\n",
        "    explanation_type='model', # or phenomenon\n",
        "    node_mask_type='attributes',\n",
        "    edge_mask_type='object',\n",
        "    model_config=dict(\n",
        "        mode='regression',\n",
        "        task_level='node',\n",
        "        return_type='raw',\n",
        "    ),)\n",
        "\n",
        "node_index = 10\n",
        "explanation = explainer(x=train_data.x_dict, edge_index=train_data.edge_index_dict, target=train_data['user', 'item'].edge_label, edge_label_index=train_data['user', 'item'].edge_label_index)\n",
        "print(f'Generated explanations in {explanation.available_explanations}')\n",
        "\n",
        "path = 'feature_importance_drug.png'\n",
        "explanation.visualize_feature_importance(path, top_k=20)\n",
        "print(f\"Feature importance plot has been saved to '{path}'\")"
      ],
      "metadata": {
        "id": "2HB83pxF94W1"
      },
      "execution_count": null,
      "outputs": []
    },
    {
      "cell_type": "code",
      "source": [
        "from collections import defaultdict\n",
        "\n",
        "# Original edges and edge labels\n",
        "edge_index = data['user', 'rates', 'item'].edge_index\n",
        "edge_label = data['user', 'rates', 'item'].edge_label\n",
        "\n",
        "# Dictionary to store aggregated labels\n",
        "edge_label_dict = defaultdict(list)\n",
        "\n",
        "# Aggregate labels\n",
        "for i, (src, dest) in enumerate(edge_index.t()):\n",
        "    edge_label_dict[(src.item(), dest.item())].append(edge_label[i])\n",
        "\n",
        "# Calculate mean and create new edge index and edge attributes\n",
        "new_edge_index = []\n",
        "new_edge_label = []\n",
        "\n",
        "for (src, dest), labels in edge_label_dict.items():\n",
        "    new_edge_index.append([src, dest])\n",
        "    new_edge_label.append(sum(labels) / len(labels))\n",
        "\n",
        "new_edge_index = torch.tensor(new_edge_index).t().contiguous()\n",
        "new_edge_label = torch.tensor(new_edge_label)\n",
        "\n",
        "mean_data=HeteroData()\n",
        "# Update the HeteroData object\n",
        "mean_data['user', 'rates', 'item'].edge_index = new_edge_index\n",
        "mean_data['user', 'rates', 'item'].edge_label = new_edge_label\n",
        "mean_data['item'].x = item_embeddings\n",
        "mean_data['user'].x = user_embeddings\n",
        "print(mean_data)\n",
        "mean_data = ToUndirected()(mean_data)\n",
        "del mean_data['item', 'rev_rates', 'user'].edge_label\n",
        "torch.save(mean_data, '/content/drive/MyDrive/data/mean_drugcom.pt')\n",
        "print(mean_data)\n",
        "transform = RandomLinkSplit(\n",
        "    num_val=0.05,   #0.1\n",
        "    num_test=0.1,   #0.1\n",
        "    neg_sampling_ratio=0.0,\n",
        "    edge_types=[('user', 'rates', 'item')],\n",
        "    rev_edge_types=[('item', 'rev_rates', 'user')],\n",
        ")\n",
        "train_data, val_data, test_data = transform(mean_data)\n",
        "print(train_data)\n",
        "print(val_data)\n",
        "print(test_data)\n",
        "train_loader = LinkNeighborLoader(\n",
        "    train_data,\n",
        "    # Sample 30 neighbors for each node and edge type for 2 iterations\n",
        "    num_neighbors={key: [30] * 2 for key in train_data.edge_types},\n",
        "    # Use a batch size of 128 for sampling training edges of type (user rates item)\n",
        "    batch_size=512,\n",
        "    edge_label_index=(('user', 'rates', 'item'),train_data['user', 'rates', 'item'].edge_label_index),\n",
        "    edge_label = train_data['user', 'rates', 'item'].edge_label\n",
        ")\n",
        "val_loader = LinkNeighborLoader(\n",
        "    val_data,\n",
        "    # Sample 30 neighbors for each node and edge type for 2 iterations\n",
        "    num_neighbors={key: [30] * 2 for key in val_data.edge_types},\n",
        "    # Use a batch size of 128 for sampling validation edges of type (user rates item)\n",
        "    batch_size=512,\n",
        "    edge_label_index=(('user', 'rates', 'item'),val_data['user', 'rates', 'item'].edge_label_index),\n",
        "    edge_label = val_data['user', 'rates', 'item'].edge_label\n",
        ")\n",
        "test_loader = LinkNeighborLoader(\n",
        "    test_data,\n",
        "    # Sample 30 neighbors for each node and edge type for 2 iterations\n",
        "    num_neighbors={key: [30] * 2 for key in test_data.edge_types},\n",
        "    # Use a batch size of 128 for sampling testing edges of type (user rates item)\n",
        "    batch_size=512,\n",
        "    edge_label_index=(('user', 'rates', 'item'),test_data['user', 'rates', 'item'].edge_label_index),\n",
        "    edge_label = test_data['user', 'rates', 'item'].edge_label\n",
        ")"
      ],
      "metadata": {
        "id": "S_YUqCxETLIq"
      },
      "execution_count": null,
      "outputs": []
    },
    {
      "cell_type": "code",
      "source": [
        "model = Model(hidden_channels=32).to(device)\n",
        "optimizer = torch.optim.Adam(model.parameters(), lr=0.01)\n",
        "\n",
        "loss_curve=[]\n",
        "Train_curve=[]\n",
        "Val_curve=[]\n",
        "Test_curve=[]\n",
        "for epoch in range(1, 11):#300\n",
        "    loss = train(train_loader)\n",
        "    train_rmse = test(train_loader)\n",
        "    val_rmse = test(val_loader)\n",
        "    test_rmse = test(test_loader)\n",
        "    loss_curve.append(loss)\n",
        "    Train_curve.append(train_rmse)\n",
        "    Val_curve.append(val_rmse)\n",
        "    Test_curve.append(test_rmse)\n",
        "    print(f'Epoch: {epoch:03d}, Loss: {loss:.4f}, Train: {train_rmse:.4f}, '\n",
        "          f'Val: {val_rmse:.4f}, Test: {test_rmse:.4f}')\n",
        "\n",
        "# Plotting accuracy vs. epochs for each learning rate and optimizer\n",
        "plt.figure(figsize=(10, 5))\n",
        "plt.subplot(1, 2, 1)\n",
        "plt.plot(range(1,11),loss_curve, label='Train Loss')\n",
        "plt.title('Training Loss over Epochs')\n",
        "plt.xlabel('Epochs')\n",
        "plt.ylabel('Loss')\n",
        "# plt.xticks(range(1,51))\n",
        "plt.legend()\n",
        "\n",
        "plt.subplot(1, 2, 2)\n",
        "plt.plot(range(1,11),Val_curve, label='Validation RMSE')\n",
        "plt.plot(range(1,11),Test_curve, label='Test RMSE')\n",
        "plt.title('Validation and Test RMSE over Epochs')\n",
        "plt.xlabel('Epochs')\n",
        "plt.ylabel('Metric')\n",
        "# plt.xticks(range(1,51))\n",
        "plt.legend()\n",
        "\n",
        "plt.tight_layout()\n",
        "plt.show()\n",
        "\n",
        "#save loss,train,val,test to pd.csv\n",
        "result_df = pd.DataFrame({'loss':loss_curve,'train':Train_curve,'val':Val_curve,'test':Test_curve})\n",
        "result_df.to_csv('SAGE_mean_drug_512_4.csv', index=False)"
      ],
      "metadata": {
        "id": "_tzncOyyTWmE"
      },
      "execution_count": null,
      "outputs": []
    },
    {
      "cell_type": "code",
      "source": [
        "explainer = Explainer(\n",
        "    model=model,\n",
        "    algorithm=CaptumExplainer('Saliency'),\n",
        "    explanation_type='model', # or phenomenon\n",
        "    node_mask_type='attributes',\n",
        "    edge_mask_type='object',\n",
        "    model_config=dict(\n",
        "        mode='regression',\n",
        "        task_level='node',\n",
        "        return_type='raw',\n",
        "    ),)\n",
        "\n",
        "node_index = 10\n",
        "explanation = explainer(x=train_data.x_dict, edge_index=train_data.edge_index_dict, target=train_data['user', 'item'].edge_label, edge_label_index=train_data['user', 'item'].edge_label_index)\n",
        "print(f'Generated explanations in {explanation.available_explanations}')\n",
        "\n",
        "path = 'feature_importance_mean_drug.png'\n",
        "explanation.visualize_feature_importance(path, top_k=20)\n",
        "print(f\"Feature importance plot has been saved to '{path}'\")"
      ],
      "metadata": {
        "id": "0lQosQ2qTbL-"
      },
      "execution_count": null,
      "outputs": []
    },
    {
      "cell_type": "code",
      "source": [
        "learning_rates = [1e-2, 1e-3, 1e-4, 1e-5, 1e-6]\n",
        "optimizers = [torch.optim.Adam, torch.optim.SGD, torch.optim.NAdam]  # Add more optimizers as needed\n",
        "optimizer_names = ['Adam', 'SGD', 'NAdam']  # Match optimizer list\n",
        "columns = ['Learning Rate', 'Epochs', 'Optimizer', 'Test RMSE']\n",
        "results_df = pd.DataFrame(columns=columns)\n",
        "for lr in learning_rates:\n",
        "    for opt, opt_name in zip(optimizers, optimizer_names):\n",
        "        model = Model(hidden_channels=32).to(device)\n",
        "        optimizer = opt(model.parameters(), lr=lr)\n",
        "        loss_curve=[]\n",
        "        Train_curve=[]\n",
        "        Val_curve=[]\n",
        "        Test_curve=[]\n",
        "        for epoch in range(1, 21):\n",
        "          loss = train(train_loader)\n",
        "          train_rmse = test(train_loader)\n",
        "          val_rmse = test(val_loader)\n",
        "          test_rmse = test(test_loader)\n",
        "          loss_curve.append(loss)\n",
        "          Train_curve.append(train_rmse)\n",
        "          Val_curve.append(val_rmse)\n",
        "          Test_curve.append(test_rmse)\n",
        "        # final_test_rmse = np.min(Test_curve)\n",
        "        # Store the results in the DataFrame\n",
        "        results_df = results_df.append({'Learning Rate': lr,\n",
        "                                        'Epochs': 20,\n",
        "                                        'Optimizer': opt_name,\n",
        "                                        'Test RMSE': Test_curve},\n",
        "                                        ignore_index=True)\n",
        "# Plotting accuracy vs. epochs for each learning rate and optimizer\n",
        "for lr in learning_rates:\n",
        "    for opt_name in optimizer_names:\n",
        "        subset_df = results_df[(results_df['Learning Rate'] == lr) & (results_df['Optimizer'] == opt_name)]\n",
        "        plt.plot(range(1,21), subset_df['Test RMSE'].tolist()[0], label=f'{opt_name}, LR={lr}')\n",
        "\n",
        "plt.xlabel('Epochs')\n",
        "plt.ylabel('Final Test RMSE')\n",
        "plt.title('drug SAGE')\n",
        "plt.legend()\n",
        "plt.savefig('meandrug_SAGE.png')\n",
        "plt.show()"
      ],
      "metadata": {
        "id": "Krt-o8hEYjIm"
      },
      "execution_count": null,
      "outputs": []
    },
    {
      "cell_type": "code",
      "source": [
        "model = GATModel(hidden_channels=32)\n",
        "optimizer = torch.optim.Adam(model.parameters(), lr=0.01)\n",
        "\n",
        "loss_curve=[]\n",
        "Train_curve=[]\n",
        "Val_curve=[]\n",
        "Test_curve=[]\n",
        "for epoch in range(1, 11):#300\n",
        "    loss = train(train_loader)\n",
        "    train_rmse = test(train_loader)\n",
        "    val_rmse = test(val_loader)\n",
        "    test_rmse = test(test_loader)\n",
        "    loss_curve.append(loss)\n",
        "    Train_curve.append(train_rmse)\n",
        "    Val_curve.append(val_rmse)\n",
        "    Test_curve.append(test_rmse)\n",
        "    print(f'Epoch: {epoch:03d}, Loss: {loss:.4f}, Train: {train_rmse:.4f}, '\n",
        "          f'Val: {val_rmse:.4f}, Test: {test_rmse:.4f}')\n",
        "\n",
        "# Plotting accuracy vs. epochs for each learning rate and optimizer\n",
        "plt.figure(figsize=(10, 5))\n",
        "plt.subplot(1, 2, 1)\n",
        "plt.plot(range(1,11),loss_curve, label='Train Loss')\n",
        "plt.title('Training Loss over Epochs')\n",
        "plt.xlabel('Epochs')\n",
        "plt.ylabel('Loss')\n",
        "plt.legend()\n",
        "\n",
        "plt.subplot(1, 2, 2)\n",
        "plt.plot(range(1,11),Val_curve, label='Validation RMSE')\n",
        "plt.plot(range(1,11),Test_curve, label='Test RMSE')\n",
        "plt.title('Validation and Test RMSE over Epochs')\n",
        "plt.xlabel('Epochs')\n",
        "plt.ylabel('Metric')\n",
        "plt.legend()\n",
        "\n",
        "plt.tight_layout()\n",
        "plt.show()"
      ],
      "metadata": {
        "id": "s9NwCwDLio1e"
      },
      "execution_count": null,
      "outputs": []
    },
    {
      "cell_type": "code",
      "source": [
        "#save loss,train,val,test to pd.csv\n",
        "result_df = pd.DataFrame({'loss':loss_curve,'train':Train_curve,'val':Val_curve,'test':Test_curve})\n",
        "result_df.to_csv('GAT_mean_drug_512_3.csv', index=False)"
      ],
      "metadata": {
        "id": "rioKwx8ziopJ"
      },
      "execution_count": null,
      "outputs": []
    },
    {
      "cell_type": "code",
      "source": [
        "learning_rates = [1e-2, 1e-3, 1e-4, 1e-5, 1e-6]\n",
        "optimizers = [torch.optim.Adam, torch.optim.SGD, torch.optim.NAdam]  # Add more optimizers as needed\n",
        "optimizer_names = ['Adam', 'SGD', 'NAdam']  # Match optimizer list\n",
        "columns = ['Learning Rate', 'Epochs', 'Optimizer', 'Test RMSE']\n",
        "results_df = pd.DataFrame(columns=columns)\n",
        "\n",
        "for lr in learning_rates:\n",
        "    for opt, opt_name in zip(optimizers, optimizer_names):\n",
        "        model = GATModel(hidden_channels=32).to(device)\n",
        "        optimizer = opt(model.parameters(), lr=lr)\n",
        "        loss_curve=[]\n",
        "        Train_curve=[]\n",
        "        Val_curve=[]\n",
        "        Test_curve=[]\n",
        "        for epoch in range(1, 21):\n",
        "          loss = train(train_loader)\n",
        "          train_rmse = test(train_loader)\n",
        "          val_rmse = test(val_loader)\n",
        "          test_rmse = test(test_loader)\n",
        "          loss_curve.append(loss)\n",
        "          Train_curve.append(train_rmse)\n",
        "          Val_curve.append(val_rmse)\n",
        "          Test_curve.append(test_rmse)\n",
        "        # final_test_rmse = np.min(Test_curve)\n",
        "        # Store the results in the DataFrame\n",
        "        results_df = results_df.append({'Learning Rate': lr,\n",
        "                                        'Epochs': 20,\n",
        "                                        'Optimizer': opt_name,\n",
        "                                        'Test RMSE': Test_curve},\n",
        "                                        ignore_index=True)\n",
        "# Plotting accuracy vs. epochs for each learning rate and optimizer\n",
        "for lr in learning_rates:\n",
        "    for opt_name in optimizer_names:\n",
        "        subset_df = results_df[(results_df['Learning Rate'] == lr) & (results_df['Optimizer'] == opt_name)]\n",
        "        plt.plot(range(1,21), subset_df['Test RMSE'].tolist()[0], label=f'{opt_name}, LR={lr}')\n",
        "\n",
        "plt.xlabel('Epochs')\n",
        "plt.ylabel('Final Test RMSE')\n",
        "plt.title('drug GAT')\n",
        "plt.legend()\n",
        "plt.savefig('meandrug_GAT.png')\n",
        "plt.show()"
      ],
      "metadata": {
        "id": "UOsX22KeY3sr"
      },
      "execution_count": null,
      "outputs": []
    }
  ],
  "metadata": {
    "kernelspec": {
      "display_name": "Python 3",
      "name": "python3"
    },
    "language_info": {
      "codemirror_mode": {
        "name": "ipython",
        "version": 3
      },
      "file_extension": ".py",
      "mimetype": "text/x-python",
      "name": "python",
      "nbconvert_exporter": "python",
      "pygments_lexer": "ipython3",
      "version": "3.8.15"
    },
    "colab": {
      "provenance": [],
      "gpuType": "T4"
    }
  },
  "nbformat": 4,
  "nbformat_minor": 0
}